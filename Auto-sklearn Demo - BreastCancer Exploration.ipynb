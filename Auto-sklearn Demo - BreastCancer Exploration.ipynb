{
 "cells": [
  {
   "cell_type": "markdown",
   "id": "9a557f26",
   "metadata": {},
   "source": [
    "## Auto-sklearn Demonstration (Classification)\n",
    "Breast Cancer\n",
    "https://www.kaggle.com/datasets/uciml/breast-cancer-wisconsin-data"
   ]
  },
  {
   "cell_type": "code",
   "execution_count": 1,
   "id": "79ebca09",
   "metadata": {
    "pycharm": {
     "name": "#%%\n"
    }
   },
   "outputs": [],
   "source": [
    "from pprint import pprint\n",
    "\n",
    "import sklearn.model_selection\n",
    "import sklearn.datasets\n",
    "import sklearn.metrics\n",
    "\n",
    "import pandas as pd\n",
    "\n",
    "# To install autosklearn: pip install pyrfr==0.6.1, then pip install auto-sklearn\n",
    "import autosklearn.classification\n",
    "from autosklearn.metrics import (accuracy, f1, roc_auc, precision,\n",
    "                                average_precision, recall, log_loss)\n",
    "\n",
    "from multi_train import MultiTrain\n",
    "import matplotlib.pyplot as plt\n",
    "# import autosklearn"
   ]
  },
  {
   "cell_type": "markdown",
   "id": "9e98671a",
   "metadata": {},
   "source": [
    "### Data Loading"
   ]
  },
  {
   "cell_type": "code",
   "execution_count": 2,
   "id": "9addcb7e",
   "metadata": {},
   "outputs": [],
   "source": [
    "multi = MultiTrain()"
   ]
  },
  {
   "cell_type": "code",
   "execution_count": 3,
   "id": "8a5ddefd",
   "metadata": {},
   "outputs": [],
   "source": [
    "multi.X_train = pd.read_csv('./data/BreastCancer/X_train.csv', index_col=[0])\n",
    "multi.y_train = pd.read_csv('./data/BreastCancer/y_train.csv', index_col=[0])\n",
    "multi.X_test = pd.read_csv('./data/BreastCancer/X_test.csv', index_col=[0])\n",
    "multi.y_test = pd.read_csv('./data/BreastCancer/y_test.csv', index_col=[0])"
   ]
  },
  {
   "cell_type": "code",
   "execution_count": 4,
   "id": "dba1ac23",
   "metadata": {
    "scrolled": true
   },
   "outputs": [
    {
     "name": "stdout",
     "output_type": "stream",
     "text": [
      "X_train: (381, 30) y_train: (381, 1)\n",
      "X_test: (188, 30) y_test: (188, 1)\n"
     ]
    },
    {
     "data": {
      "text/html": [
       "<div>\n",
       "<style scoped>\n",
       "    .dataframe tbody tr th:only-of-type {\n",
       "        vertical-align: middle;\n",
       "    }\n",
       "\n",
       "    .dataframe tbody tr th {\n",
       "        vertical-align: top;\n",
       "    }\n",
       "\n",
       "    .dataframe thead th {\n",
       "        text-align: right;\n",
       "    }\n",
       "</style>\n",
       "<table border=\"1\" class=\"dataframe\">\n",
       "  <thead>\n",
       "    <tr style=\"text-align: right;\">\n",
       "      <th></th>\n",
       "      <th>radius_mean</th>\n",
       "      <th>texture_mean</th>\n",
       "      <th>perimeter_mean</th>\n",
       "      <th>area_mean</th>\n",
       "      <th>smoothness_mean</th>\n",
       "      <th>compactness_mean</th>\n",
       "      <th>concavity_mean</th>\n",
       "      <th>concave points_mean</th>\n",
       "      <th>symmetry_mean</th>\n",
       "      <th>fractal_dimension_mean</th>\n",
       "      <th>...</th>\n",
       "      <th>radius_worst</th>\n",
       "      <th>texture_worst</th>\n",
       "      <th>perimeter_worst</th>\n",
       "      <th>area_worst</th>\n",
       "      <th>smoothness_worst</th>\n",
       "      <th>compactness_worst</th>\n",
       "      <th>concavity_worst</th>\n",
       "      <th>concave points_worst</th>\n",
       "      <th>symmetry_worst</th>\n",
       "      <th>fractal_dimension_worst</th>\n",
       "    </tr>\n",
       "    <tr>\n",
       "      <th>id</th>\n",
       "      <th></th>\n",
       "      <th></th>\n",
       "      <th></th>\n",
       "      <th></th>\n",
       "      <th></th>\n",
       "      <th></th>\n",
       "      <th></th>\n",
       "      <th></th>\n",
       "      <th></th>\n",
       "      <th></th>\n",
       "      <th></th>\n",
       "      <th></th>\n",
       "      <th></th>\n",
       "      <th></th>\n",
       "      <th></th>\n",
       "      <th></th>\n",
       "      <th></th>\n",
       "      <th></th>\n",
       "      <th></th>\n",
       "      <th></th>\n",
       "      <th></th>\n",
       "    </tr>\n",
       "  </thead>\n",
       "  <tbody>\n",
       "    <tr>\n",
       "      <th>87164</th>\n",
       "      <td>15.46</td>\n",
       "      <td>11.89</td>\n",
       "      <td>102.50</td>\n",
       "      <td>736.9</td>\n",
       "      <td>0.12570</td>\n",
       "      <td>0.15550</td>\n",
       "      <td>0.20320</td>\n",
       "      <td>0.10970</td>\n",
       "      <td>0.1966</td>\n",
       "      <td>0.07069</td>\n",
       "      <td>...</td>\n",
       "      <td>18.79</td>\n",
       "      <td>17.04</td>\n",
       "      <td>125.00</td>\n",
       "      <td>1102.0</td>\n",
       "      <td>0.15310</td>\n",
       "      <td>0.3583</td>\n",
       "      <td>0.5830</td>\n",
       "      <td>0.18270</td>\n",
       "      <td>0.3216</td>\n",
       "      <td>0.10100</td>\n",
       "    </tr>\n",
       "    <tr>\n",
       "      <th>905190</th>\n",
       "      <td>12.85</td>\n",
       "      <td>21.37</td>\n",
       "      <td>82.63</td>\n",
       "      <td>514.5</td>\n",
       "      <td>0.07551</td>\n",
       "      <td>0.08316</td>\n",
       "      <td>0.06126</td>\n",
       "      <td>0.01867</td>\n",
       "      <td>0.1580</td>\n",
       "      <td>0.06114</td>\n",
       "      <td>...</td>\n",
       "      <td>14.40</td>\n",
       "      <td>27.01</td>\n",
       "      <td>91.63</td>\n",
       "      <td>645.8</td>\n",
       "      <td>0.09402</td>\n",
       "      <td>0.1936</td>\n",
       "      <td>0.1838</td>\n",
       "      <td>0.05601</td>\n",
       "      <td>0.2488</td>\n",
       "      <td>0.08151</td>\n",
       "    </tr>\n",
       "    <tr>\n",
       "      <th>857637</th>\n",
       "      <td>19.21</td>\n",
       "      <td>18.57</td>\n",
       "      <td>125.50</td>\n",
       "      <td>1152.0</td>\n",
       "      <td>0.10530</td>\n",
       "      <td>0.12670</td>\n",
       "      <td>0.13230</td>\n",
       "      <td>0.08994</td>\n",
       "      <td>0.1917</td>\n",
       "      <td>0.05961</td>\n",
       "      <td>...</td>\n",
       "      <td>26.14</td>\n",
       "      <td>28.14</td>\n",
       "      <td>170.10</td>\n",
       "      <td>2145.0</td>\n",
       "      <td>0.16240</td>\n",
       "      <td>0.3511</td>\n",
       "      <td>0.3879</td>\n",
       "      <td>0.20910</td>\n",
       "      <td>0.3537</td>\n",
       "      <td>0.08294</td>\n",
       "    </tr>\n",
       "    <tr>\n",
       "      <th>914580</th>\n",
       "      <td>12.47</td>\n",
       "      <td>17.31</td>\n",
       "      <td>80.45</td>\n",
       "      <td>480.1</td>\n",
       "      <td>0.08928</td>\n",
       "      <td>0.07630</td>\n",
       "      <td>0.03609</td>\n",
       "      <td>0.02369</td>\n",
       "      <td>0.1526</td>\n",
       "      <td>0.06046</td>\n",
       "      <td>...</td>\n",
       "      <td>14.06</td>\n",
       "      <td>24.34</td>\n",
       "      <td>92.82</td>\n",
       "      <td>607.3</td>\n",
       "      <td>0.12760</td>\n",
       "      <td>0.2506</td>\n",
       "      <td>0.2028</td>\n",
       "      <td>0.10530</td>\n",
       "      <td>0.3035</td>\n",
       "      <td>0.07661</td>\n",
       "    </tr>\n",
       "    <tr>\n",
       "      <th>892604</th>\n",
       "      <td>12.46</td>\n",
       "      <td>19.89</td>\n",
       "      <td>80.43</td>\n",
       "      <td>471.3</td>\n",
       "      <td>0.08451</td>\n",
       "      <td>0.10140</td>\n",
       "      <td>0.06830</td>\n",
       "      <td>0.03099</td>\n",
       "      <td>0.1781</td>\n",
       "      <td>0.06249</td>\n",
       "      <td>...</td>\n",
       "      <td>13.46</td>\n",
       "      <td>23.07</td>\n",
       "      <td>88.13</td>\n",
       "      <td>551.3</td>\n",
       "      <td>0.10500</td>\n",
       "      <td>0.2158</td>\n",
       "      <td>0.1904</td>\n",
       "      <td>0.07625</td>\n",
       "      <td>0.2685</td>\n",
       "      <td>0.07764</td>\n",
       "    </tr>\n",
       "  </tbody>\n",
       "</table>\n",
       "<p>5 rows × 30 columns</p>\n",
       "</div>"
      ],
      "text/plain": [
       "        radius_mean  texture_mean  perimeter_mean  area_mean  smoothness_mean  \\\n",
       "id                                                                              \n",
       "87164         15.46         11.89          102.50      736.9          0.12570   \n",
       "905190        12.85         21.37           82.63      514.5          0.07551   \n",
       "857637        19.21         18.57          125.50     1152.0          0.10530   \n",
       "914580        12.47         17.31           80.45      480.1          0.08928   \n",
       "892604        12.46         19.89           80.43      471.3          0.08451   \n",
       "\n",
       "        compactness_mean  concavity_mean  concave points_mean  symmetry_mean  \\\n",
       "id                                                                             \n",
       "87164            0.15550         0.20320              0.10970         0.1966   \n",
       "905190           0.08316         0.06126              0.01867         0.1580   \n",
       "857637           0.12670         0.13230              0.08994         0.1917   \n",
       "914580           0.07630         0.03609              0.02369         0.1526   \n",
       "892604           0.10140         0.06830              0.03099         0.1781   \n",
       "\n",
       "        fractal_dimension_mean  ...  radius_worst  texture_worst  \\\n",
       "id                              ...                                \n",
       "87164                  0.07069  ...         18.79          17.04   \n",
       "905190                 0.06114  ...         14.40          27.01   \n",
       "857637                 0.05961  ...         26.14          28.14   \n",
       "914580                 0.06046  ...         14.06          24.34   \n",
       "892604                 0.06249  ...         13.46          23.07   \n",
       "\n",
       "        perimeter_worst  area_worst  smoothness_worst  compactness_worst  \\\n",
       "id                                                                         \n",
       "87164            125.00      1102.0           0.15310             0.3583   \n",
       "905190            91.63       645.8           0.09402             0.1936   \n",
       "857637           170.10      2145.0           0.16240             0.3511   \n",
       "914580            92.82       607.3           0.12760             0.2506   \n",
       "892604            88.13       551.3           0.10500             0.2158   \n",
       "\n",
       "        concavity_worst  concave points_worst  symmetry_worst  \\\n",
       "id                                                              \n",
       "87164            0.5830               0.18270          0.3216   \n",
       "905190           0.1838               0.05601          0.2488   \n",
       "857637           0.3879               0.20910          0.3537   \n",
       "914580           0.2028               0.10530          0.3035   \n",
       "892604           0.1904               0.07625          0.2685   \n",
       "\n",
       "        fractal_dimension_worst  \n",
       "id                               \n",
       "87164                   0.10100  \n",
       "905190                  0.08151  \n",
       "857637                  0.08294  \n",
       "914580                  0.07661  \n",
       "892604                  0.07764  \n",
       "\n",
       "[5 rows x 30 columns]"
      ]
     },
     "execution_count": 4,
     "metadata": {},
     "output_type": "execute_result"
    }
   ],
   "source": [
    "print(\"X_train:\", multi.X_train.shape, \"y_train:\", multi.y_train.shape)\n",
    "print(\"X_test:\", multi.X_test.shape, \"y_test:\", multi.y_test.shape)\n",
    "multi.X_train.head()"
   ]
  },
  {
   "cell_type": "markdown",
   "id": "ac5d74bf",
   "metadata": {},
   "source": [
    "### Build and fit a classifier\n",
    "* **“n_jobs”** - number of cores in the system. (use -1 for as many cores as available).\n",
    "* **“time_left_for_this_task”** argument for the number of seconds for the process to run.\n",
    "<br>&emsp;&emsp;(\"less than 5-10 minutes is probably plenty for many small predictive modeling tasks (sub 1,000 rows).\")\n",
    "* **“per_run_time_limit”** - limit the time allocated to each model evaluation (in seconds).\n",
    "* **\"ensemble_size\"** - number of models to include in the ensemble.\n",
    "* **\"metric\"** - the metric which we want to optimize"
   ]
  },
  {
   "cell_type": "code",
   "execution_count": 5,
   "id": "5dfced33",
   "metadata": {},
   "outputs": [
    {
     "name": "stdout",
     "output_type": "stream",
     "text": [
      "-> Fitting - Initial Configurations: 0\n",
      "Finished - saved to './models/BreastCancer/autosklearn/autosklearn_BreastCancer_initial-confs_0.pkl'\n",
      "-> Fitting - Initial Configurations: 2\n"
     ]
    },
    {
     "name": "stderr",
     "output_type": "stream",
     "text": [
      "/usr/local/lib/python3.8/dist-packages/autosklearn/metalearning/metalearning/meta_base.py:68: FutureWarning: The frame.append method is deprecated and will be removed from pandas in a future version. Use pandas.concat instead.\n",
      "  self.metafeatures = self.metafeatures.append(metafeatures)\n",
      "/usr/local/lib/python3.8/dist-packages/autosklearn/metalearning/metalearning/meta_base.py:72: FutureWarning: The frame.append method is deprecated and will be removed from pandas in a future version. Use pandas.concat instead.\n",
      "  self.algorithm_runs[metric].append(runs)\n"
     ]
    },
    {
     "name": "stdout",
     "output_type": "stream",
     "text": [
      "Finished - saved to './models/BreastCancer/autosklearn/autosklearn_BreastCancer_initial-confs_2.pkl'\n",
      "-> Fitting - Initial Configurations: 4\n"
     ]
    },
    {
     "name": "stderr",
     "output_type": "stream",
     "text": [
      "/usr/local/lib/python3.8/dist-packages/autosklearn/metalearning/metalearning/meta_base.py:68: FutureWarning: The frame.append method is deprecated and will be removed from pandas in a future version. Use pandas.concat instead.\n",
      "  self.metafeatures = self.metafeatures.append(metafeatures)\n",
      "/usr/local/lib/python3.8/dist-packages/autosklearn/metalearning/metalearning/meta_base.py:72: FutureWarning: The frame.append method is deprecated and will be removed from pandas in a future version. Use pandas.concat instead.\n",
      "  self.algorithm_runs[metric].append(runs)\n"
     ]
    },
    {
     "name": "stdout",
     "output_type": "stream",
     "text": [
      "Finished - saved to './models/BreastCancer/autosklearn/autosklearn_BreastCancer_initial-confs_4.pkl'\n",
      "-> Fitting - Initial Configurations: 8\n"
     ]
    },
    {
     "name": "stderr",
     "output_type": "stream",
     "text": [
      "/usr/local/lib/python3.8/dist-packages/autosklearn/metalearning/metalearning/meta_base.py:68: FutureWarning: The frame.append method is deprecated and will be removed from pandas in a future version. Use pandas.concat instead.\n",
      "  self.metafeatures = self.metafeatures.append(metafeatures)\n",
      "/usr/local/lib/python3.8/dist-packages/autosklearn/metalearning/metalearning/meta_base.py:72: FutureWarning: The frame.append method is deprecated and will be removed from pandas in a future version. Use pandas.concat instead.\n",
      "  self.algorithm_runs[metric].append(runs)\n"
     ]
    },
    {
     "name": "stdout",
     "output_type": "stream",
     "text": [
      "Finished - saved to './models/BreastCancer/autosklearn/autosklearn_BreastCancer_initial-confs_8.pkl'\n",
      "-> Fitting - Initial Configurations: 16\n"
     ]
    },
    {
     "name": "stderr",
     "output_type": "stream",
     "text": [
      "/usr/local/lib/python3.8/dist-packages/autosklearn/metalearning/metalearning/meta_base.py:68: FutureWarning: The frame.append method is deprecated and will be removed from pandas in a future version. Use pandas.concat instead.\n",
      "  self.metafeatures = self.metafeatures.append(metafeatures)\n",
      "/usr/local/lib/python3.8/dist-packages/autosklearn/metalearning/metalearning/meta_base.py:72: FutureWarning: The frame.append method is deprecated and will be removed from pandas in a future version. Use pandas.concat instead.\n",
      "  self.algorithm_runs[metric].append(runs)\n"
     ]
    },
    {
     "name": "stdout",
     "output_type": "stream",
     "text": [
      "Finished - saved to './models/BreastCancer/autosklearn/autosklearn_BreastCancer_initial-confs_16.pkl'\n",
      "-> Fitting - Initial Configurations: 32\n"
     ]
    },
    {
     "name": "stderr",
     "output_type": "stream",
     "text": [
      "/usr/local/lib/python3.8/dist-packages/autosklearn/metalearning/metalearning/meta_base.py:68: FutureWarning: The frame.append method is deprecated and will be removed from pandas in a future version. Use pandas.concat instead.\n",
      "  self.metafeatures = self.metafeatures.append(metafeatures)\n",
      "/usr/local/lib/python3.8/dist-packages/autosklearn/metalearning/metalearning/meta_base.py:72: FutureWarning: The frame.append method is deprecated and will be removed from pandas in a future version. Use pandas.concat instead.\n",
      "  self.algorithm_runs[metric].append(runs)\n"
     ]
    },
    {
     "name": "stdout",
     "output_type": "stream",
     "text": [
      "Finished - saved to './models/BreastCancer/autosklearn/autosklearn_BreastCancer_initial-confs_32.pkl'\n",
      "-> Fitting - Max Models on Disc: 2\n"
     ]
    },
    {
     "name": "stderr",
     "output_type": "stream",
     "text": [
      "/usr/local/lib/python3.8/dist-packages/autosklearn/metalearning/metalearning/meta_base.py:68: FutureWarning: The frame.append method is deprecated and will be removed from pandas in a future version. Use pandas.concat instead.\n",
      "  self.metafeatures = self.metafeatures.append(metafeatures)\n",
      "/usr/local/lib/python3.8/dist-packages/autosklearn/metalearning/metalearning/meta_base.py:72: FutureWarning: The frame.append method is deprecated and will be removed from pandas in a future version. Use pandas.concat instead.\n",
      "  self.algorithm_runs[metric].append(runs)\n"
     ]
    },
    {
     "name": "stdout",
     "output_type": "stream",
     "text": [
      "Finished - saved to './models/BreastCancer/autosklearn/autosklearn_BreastCancer_max-models_2.pkl'\n",
      "-> Fitting - Max Models on Disc: 4\n"
     ]
    },
    {
     "name": "stderr",
     "output_type": "stream",
     "text": [
      "/usr/local/lib/python3.8/dist-packages/autosklearn/metalearning/metalearning/meta_base.py:68: FutureWarning: The frame.append method is deprecated and will be removed from pandas in a future version. Use pandas.concat instead.\n",
      "  self.metafeatures = self.metafeatures.append(metafeatures)\n",
      "/usr/local/lib/python3.8/dist-packages/autosklearn/metalearning/metalearning/meta_base.py:72: FutureWarning: The frame.append method is deprecated and will be removed from pandas in a future version. Use pandas.concat instead.\n",
      "  self.algorithm_runs[metric].append(runs)\n"
     ]
    },
    {
     "name": "stdout",
     "output_type": "stream",
     "text": [
      "Finished - saved to './models/BreastCancer/autosklearn/autosklearn_BreastCancer_max-models_4.pkl'\n",
      "-> Fitting - Max Models on Disc: 8\n"
     ]
    },
    {
     "name": "stderr",
     "output_type": "stream",
     "text": [
      "/usr/local/lib/python3.8/dist-packages/autosklearn/metalearning/metalearning/meta_base.py:68: FutureWarning: The frame.append method is deprecated and will be removed from pandas in a future version. Use pandas.concat instead.\n",
      "  self.metafeatures = self.metafeatures.append(metafeatures)\n",
      "/usr/local/lib/python3.8/dist-packages/autosklearn/metalearning/metalearning/meta_base.py:72: FutureWarning: The frame.append method is deprecated and will be removed from pandas in a future version. Use pandas.concat instead.\n",
      "  self.algorithm_runs[metric].append(runs)\n"
     ]
    },
    {
     "name": "stdout",
     "output_type": "stream",
     "text": [
      "Finished - saved to './models/BreastCancer/autosklearn/autosklearn_BreastCancer_max-models_8.pkl'\n",
      "-> Fitting - Max Models on Disc: 16\n"
     ]
    },
    {
     "name": "stderr",
     "output_type": "stream",
     "text": [
      "/usr/local/lib/python3.8/dist-packages/distributed/node.py:177: UserWarning: Port 8787 is already in use.\n",
      "Perhaps you already have a cluster running?\n",
      "Hosting the HTTP server on port 33011 instead\n",
      "  warnings.warn(\n",
      "/usr/local/lib/python3.8/dist-packages/autosklearn/metalearning/metalearning/meta_base.py:68: FutureWarning: The frame.append method is deprecated and will be removed from pandas in a future version. Use pandas.concat instead.\n",
      "  self.metafeatures = self.metafeatures.append(metafeatures)\n",
      "/usr/local/lib/python3.8/dist-packages/autosklearn/metalearning/metalearning/meta_base.py:72: FutureWarning: The frame.append method is deprecated and will be removed from pandas in a future version. Use pandas.concat instead.\n",
      "  self.algorithm_runs[metric].append(runs)\n"
     ]
    },
    {
     "name": "stdout",
     "output_type": "stream",
     "text": [
      "Finished - saved to './models/BreastCancer/autosklearn/autosklearn_BreastCancer_max-models_16.pkl'\n",
      "-> Fitting - Max Models on Disc: 32\n"
     ]
    },
    {
     "name": "stderr",
     "output_type": "stream",
     "text": [
      "/usr/local/lib/python3.8/dist-packages/autosklearn/metalearning/metalearning/meta_base.py:68: FutureWarning: The frame.append method is deprecated and will be removed from pandas in a future version. Use pandas.concat instead.\n",
      "  self.metafeatures = self.metafeatures.append(metafeatures)\n",
      "/usr/local/lib/python3.8/dist-packages/autosklearn/metalearning/metalearning/meta_base.py:72: FutureWarning: The frame.append method is deprecated and will be removed from pandas in a future version. Use pandas.concat instead.\n",
      "  self.algorithm_runs[metric].append(runs)\n"
     ]
    },
    {
     "name": "stdout",
     "output_type": "stream",
     "text": [
      "Finished - saved to './models/BreastCancer/autosklearn/autosklearn_BreastCancer_max-models_32.pkl'\n",
      "-> Fitting - Max Models on Disc: 64\n"
     ]
    },
    {
     "name": "stderr",
     "output_type": "stream",
     "text": [
      "/usr/local/lib/python3.8/dist-packages/distributed/node.py:177: UserWarning: Port 8787 is already in use.\n",
      "Perhaps you already have a cluster running?\n",
      "Hosting the HTTP server on port 43483 instead\n",
      "  warnings.warn(\n",
      "/usr/local/lib/python3.8/dist-packages/autosklearn/metalearning/metalearning/meta_base.py:68: FutureWarning: The frame.append method is deprecated and will be removed from pandas in a future version. Use pandas.concat instead.\n",
      "  self.metafeatures = self.metafeatures.append(metafeatures)\n",
      "/usr/local/lib/python3.8/dist-packages/autosklearn/metalearning/metalearning/meta_base.py:72: FutureWarning: The frame.append method is deprecated and will be removed from pandas in a future version. Use pandas.concat instead.\n",
      "  self.algorithm_runs[metric].append(runs)\n"
     ]
    },
    {
     "name": "stdout",
     "output_type": "stream",
     "text": [
      "Finished - saved to './models/BreastCancer/autosklearn/autosklearn_BreastCancer_max-models_64.pkl'\n",
      "-> Fitting - Ensemble Sizes: 1\n"
     ]
    },
    {
     "name": "stderr",
     "output_type": "stream",
     "text": [
      "/usr/local/lib/python3.8/dist-packages/distributed/node.py:177: UserWarning: Port 8787 is already in use.\n",
      "Perhaps you already have a cluster running?\n",
      "Hosting the HTTP server on port 45757 instead\n",
      "  warnings.warn(\n",
      "/usr/local/lib/python3.8/dist-packages/autosklearn/metalearning/metalearning/meta_base.py:68: FutureWarning: The frame.append method is deprecated and will be removed from pandas in a future version. Use pandas.concat instead.\n",
      "  self.metafeatures = self.metafeatures.append(metafeatures)\n",
      "/usr/local/lib/python3.8/dist-packages/autosklearn/metalearning/metalearning/meta_base.py:72: FutureWarning: The frame.append method is deprecated and will be removed from pandas in a future version. Use pandas.concat instead.\n",
      "  self.algorithm_runs[metric].append(runs)\n"
     ]
    },
    {
     "name": "stdout",
     "output_type": "stream",
     "text": [
      "Finished - saved to './models/BreastCancer/autosklearn/autosklearn_BreastCancer_ensemble-size_1.pkl'\n",
      "-> Fitting - Ensemble Sizes: 2\n"
     ]
    },
    {
     "name": "stderr",
     "output_type": "stream",
     "text": [
      "/usr/local/lib/python3.8/dist-packages/distributed/node.py:177: UserWarning: Port 8787 is already in use.\n",
      "Perhaps you already have a cluster running?\n",
      "Hosting the HTTP server on port 43665 instead\n",
      "  warnings.warn(\n",
      "/usr/local/lib/python3.8/dist-packages/autosklearn/metalearning/metalearning/meta_base.py:68: FutureWarning: The frame.append method is deprecated and will be removed from pandas in a future version. Use pandas.concat instead.\n",
      "  self.metafeatures = self.metafeatures.append(metafeatures)\n",
      "/usr/local/lib/python3.8/dist-packages/autosklearn/metalearning/metalearning/meta_base.py:72: FutureWarning: The frame.append method is deprecated and will be removed from pandas in a future version. Use pandas.concat instead.\n",
      "  self.algorithm_runs[metric].append(runs)\n"
     ]
    },
    {
     "name": "stdout",
     "output_type": "stream",
     "text": [
      "Finished - saved to './models/BreastCancer/autosklearn/autosklearn_BreastCancer_ensemble-size_2.pkl'\n",
      "-> Fitting - Ensemble Sizes: 3\n"
     ]
    },
    {
     "name": "stderr",
     "output_type": "stream",
     "text": [
      "/usr/local/lib/python3.8/dist-packages/autosklearn/metalearning/metalearning/meta_base.py:68: FutureWarning: The frame.append method is deprecated and will be removed from pandas in a future version. Use pandas.concat instead.\n",
      "  self.metafeatures = self.metafeatures.append(metafeatures)\n",
      "/usr/local/lib/python3.8/dist-packages/autosklearn/metalearning/metalearning/meta_base.py:72: FutureWarning: The frame.append method is deprecated and will be removed from pandas in a future version. Use pandas.concat instead.\n",
      "  self.algorithm_runs[metric].append(runs)\n"
     ]
    },
    {
     "name": "stdout",
     "output_type": "stream",
     "text": [
      "Finished - saved to './models/BreastCancer/autosklearn/autosklearn_BreastCancer_ensemble-size_3.pkl'\n",
      "-> Fitting - Ensemble Sizes: 4\n"
     ]
    },
    {
     "name": "stderr",
     "output_type": "stream",
     "text": [
      "/usr/local/lib/python3.8/dist-packages/autosklearn/metalearning/metalearning/meta_base.py:68: FutureWarning: The frame.append method is deprecated and will be removed from pandas in a future version. Use pandas.concat instead.\n",
      "  self.metafeatures = self.metafeatures.append(metafeatures)\n",
      "/usr/local/lib/python3.8/dist-packages/autosklearn/metalearning/metalearning/meta_base.py:72: FutureWarning: The frame.append method is deprecated and will be removed from pandas in a future version. Use pandas.concat instead.\n",
      "  self.algorithm_runs[metric].append(runs)\n"
     ]
    },
    {
     "name": "stdout",
     "output_type": "stream",
     "text": [
      "Finished - saved to './models/BreastCancer/autosklearn/autosklearn_BreastCancer_ensemble-size_4.pkl'\n",
      "-> Fitting - Ensemble Sizes: 8\n"
     ]
    },
    {
     "name": "stderr",
     "output_type": "stream",
     "text": [
      "/usr/local/lib/python3.8/dist-packages/autosklearn/metalearning/metalearning/meta_base.py:68: FutureWarning: The frame.append method is deprecated and will be removed from pandas in a future version. Use pandas.concat instead.\n",
      "  self.metafeatures = self.metafeatures.append(metafeatures)\n",
      "/usr/local/lib/python3.8/dist-packages/autosklearn/metalearning/metalearning/meta_base.py:72: FutureWarning: The frame.append method is deprecated and will be removed from pandas in a future version. Use pandas.concat instead.\n",
      "  self.algorithm_runs[metric].append(runs)\n"
     ]
    },
    {
     "name": "stdout",
     "output_type": "stream",
     "text": [
      "Finished - saved to './models/BreastCancer/autosklearn/autosklearn_BreastCancer_ensemble-size_8.pkl'\n",
      "-> Fitting - Ensemble Sizes: 16\n"
     ]
    },
    {
     "name": "stderr",
     "output_type": "stream",
     "text": [
      "/usr/local/lib/python3.8/dist-packages/autosklearn/metalearning/metalearning/meta_base.py:68: FutureWarning: The frame.append method is deprecated and will be removed from pandas in a future version. Use pandas.concat instead.\n",
      "  self.metafeatures = self.metafeatures.append(metafeatures)\n",
      "/usr/local/lib/python3.8/dist-packages/autosklearn/metalearning/metalearning/meta_base.py:72: FutureWarning: The frame.append method is deprecated and will be removed from pandas in a future version. Use pandas.concat instead.\n",
      "  self.algorithm_runs[metric].append(runs)\n"
     ]
    },
    {
     "name": "stdout",
     "output_type": "stream",
     "text": [
      "Finished - saved to './models/BreastCancer/autosklearn/autosklearn_BreastCancer_ensemble-size_16.pkl'\n",
      "-> Fitting - Resampling Strategy: holdout\n"
     ]
    },
    {
     "name": "stderr",
     "output_type": "stream",
     "text": [
      "/usr/local/lib/python3.8/dist-packages/distributed/node.py:177: UserWarning: Port 8787 is already in use.\n",
      "Perhaps you already have a cluster running?\n",
      "Hosting the HTTP server on port 43349 instead\n",
      "  warnings.warn(\n",
      "/usr/local/lib/python3.8/dist-packages/autosklearn/metalearning/metalearning/meta_base.py:68: FutureWarning: The frame.append method is deprecated and will be removed from pandas in a future version. Use pandas.concat instead.\n",
      "  self.metafeatures = self.metafeatures.append(metafeatures)\n",
      "/usr/local/lib/python3.8/dist-packages/autosklearn/metalearning/metalearning/meta_base.py:72: FutureWarning: The frame.append method is deprecated and will be removed from pandas in a future version. Use pandas.concat instead.\n",
      "  self.algorithm_runs[metric].append(runs)\n"
     ]
    },
    {
     "name": "stdout",
     "output_type": "stream",
     "text": [
      "Finished - saved to './models/BreastCancer/autosklearn/autosklearn_BreastCancer_resamp-strategy_holdout.pkl'\n",
      "-> Fitting - Resampling Strategy: holdout-iterative-fit\n"
     ]
    },
    {
     "name": "stderr",
     "output_type": "stream",
     "text": [
      "/usr/local/lib/python3.8/dist-packages/distributed/node.py:177: UserWarning: Port 8787 is already in use.\n",
      "Perhaps you already have a cluster running?\n",
      "Hosting the HTTP server on port 45647 instead\n",
      "  warnings.warn(\n",
      "/usr/local/lib/python3.8/dist-packages/autosklearn/metalearning/metalearning/meta_base.py:68: FutureWarning: The frame.append method is deprecated and will be removed from pandas in a future version. Use pandas.concat instead.\n",
      "  self.metafeatures = self.metafeatures.append(metafeatures)\n",
      "/usr/local/lib/python3.8/dist-packages/autosklearn/metalearning/metalearning/meta_base.py:72: FutureWarning: The frame.append method is deprecated and will be removed from pandas in a future version. Use pandas.concat instead.\n",
      "  self.algorithm_runs[metric].append(runs)\n"
     ]
    },
    {
     "name": "stdout",
     "output_type": "stream",
     "text": [
      "Finished - saved to './models/BreastCancer/autosklearn/autosklearn_BreastCancer_resamp-strategy_holdout-iterative-fit.pkl'\n",
      "-> Fitting - Resampling Strategy: cv\n"
     ]
    },
    {
     "name": "stderr",
     "output_type": "stream",
     "text": [
      "/usr/local/lib/python3.8/dist-packages/distributed/node.py:177: UserWarning: Port 8787 is already in use.\n",
      "Perhaps you already have a cluster running?\n",
      "Hosting the HTTP server on port 36805 instead\n",
      "  warnings.warn(\n",
      "/usr/local/lib/python3.8/dist-packages/autosklearn/metalearning/metalearning/meta_base.py:68: FutureWarning: The frame.append method is deprecated and will be removed from pandas in a future version. Use pandas.concat instead.\n",
      "  self.metafeatures = self.metafeatures.append(metafeatures)\n",
      "/usr/local/lib/python3.8/dist-packages/autosklearn/metalearning/metalearning/meta_base.py:72: FutureWarning: The frame.append method is deprecated and will be removed from pandas in a future version. Use pandas.concat instead.\n",
      "  self.algorithm_runs[metric].append(runs)\n"
     ]
    },
    {
     "name": "stdout",
     "output_type": "stream",
     "text": [
      "Finished - saved to './models/BreastCancer/autosklearn/autosklearn_BreastCancer_resamp-strategy_cv.pkl'\n",
      "-> Fitting - Resampling Strategy: cv-iterative-fit\n"
     ]
    },
    {
     "name": "stderr",
     "output_type": "stream",
     "text": [
      "/usr/local/lib/python3.8/dist-packages/autosklearn/metalearning/metalearning/meta_base.py:68: FutureWarning: The frame.append method is deprecated and will be removed from pandas in a future version. Use pandas.concat instead.\n",
      "  self.metafeatures = self.metafeatures.append(metafeatures)\n",
      "/usr/local/lib/python3.8/dist-packages/autosklearn/metalearning/metalearning/meta_base.py:72: FutureWarning: The frame.append method is deprecated and will be removed from pandas in a future version. Use pandas.concat instead.\n",
      "  self.algorithm_runs[metric].append(runs)\n"
     ]
    },
    {
     "name": "stdout",
     "output_type": "stream",
     "text": [
      "Finished - saved to './models/BreastCancer/autosklearn/autosklearn_BreastCancer_resamp-strategy_cv-iterative-fit.pkl'\n",
      "CPU times: user 5h 2s, sys: 8min 3s, total: 5h 8min 5s\n",
      "Wall time: 3h 46min 5s\n"
     ]
    }
   ],
   "source": [
    "%%time\n",
    "initial_configurations_via_metalearning = [0, 2, 4, 8, 16, 32]\n",
    "resampling_strategies = ['holdout', 'holdout-iterative-fit', 'cv', 'cv-iterative-fit']\n",
    "max_models_on_disc = [2, 4, 8, 16, 32, 64]\n",
    "ensemble_sizes = [1, 2, 3, 4, 8, 16]\n",
    "\n",
    "# initial_configurations_via_metalearning = []\n",
    "# resampling_strategies = ['cv', 'cv-iterative-fit', 'cv-iterative-fit']\n",
    "# max_models_on_disc = []\n",
    "# ensemble_sizes = []\n",
    "\n",
    "multi.build_and_fit_classifier(dataset_name=\"BreastCancer\",\n",
    "                               initial_configurations_via_metalearning=initial_configurations_via_metalearning,\n",
    "                               resampling_strategies=resampling_strategies,\n",
    "                               max_models_on_disc=max_models_on_disc,\n",
    "                               ensemble_sizes=ensemble_sizes)"
   ]
  },
  {
   "cell_type": "markdown",
   "id": "068d5431",
   "metadata": {},
   "source": [
    "## Testing effects of different parameter changes "
   ]
  },
  {
   "cell_type": "markdown",
   "id": "ccda2eb0",
   "metadata": {},
   "source": [
    "## Visualize "
   ]
  },
  {
   "cell_type": "code",
   "execution_count": 6,
   "id": "570c4109",
   "metadata": {},
   "outputs": [
    {
     "data": {
      "text/html": [
       "<div>\n",
       "<style scoped>\n",
       "    .dataframe tbody tr th:only-of-type {\n",
       "        vertical-align: middle;\n",
       "    }\n",
       "\n",
       "    .dataframe tbody tr th {\n",
       "        vertical-align: top;\n",
       "    }\n",
       "\n",
       "    .dataframe thead th {\n",
       "        text-align: right;\n",
       "    }\n",
       "</style>\n",
       "<table border=\"1\" class=\"dataframe\">\n",
       "  <thead>\n",
       "    <tr style=\"text-align: right;\">\n",
       "      <th></th>\n",
       "      <th>Feature</th>\n",
       "      <th>Value</th>\n",
       "      <th>Elapsed_Time</th>\n",
       "      <th>Train_Score</th>\n",
       "      <th>Test_Score</th>\n",
       "    </tr>\n",
       "  </thead>\n",
       "  <tbody>\n",
       "    <tr>\n",
       "      <th>0</th>\n",
       "      <td>Initial_Confs</td>\n",
       "      <td>0</td>\n",
       "      <td>238.154013</td>\n",
       "      <td>0.992126</td>\n",
       "      <td>0.957447</td>\n",
       "    </tr>\n",
       "    <tr>\n",
       "      <th>1</th>\n",
       "      <td>Initial_Confs</td>\n",
       "      <td>2</td>\n",
       "      <td>198.054359</td>\n",
       "      <td>0.992126</td>\n",
       "      <td>0.978723</td>\n",
       "    </tr>\n",
       "    <tr>\n",
       "      <th>2</th>\n",
       "      <td>Initial_Confs</td>\n",
       "      <td>4</td>\n",
       "      <td>201.945836</td>\n",
       "      <td>0.992126</td>\n",
       "      <td>0.994681</td>\n",
       "    </tr>\n",
       "    <tr>\n",
       "      <th>3</th>\n",
       "      <td>Initial_Confs</td>\n",
       "      <td>8</td>\n",
       "      <td>225.328915</td>\n",
       "      <td>0.997375</td>\n",
       "      <td>0.973404</td>\n",
       "    </tr>\n",
       "    <tr>\n",
       "      <th>4</th>\n",
       "      <td>Initial_Confs</td>\n",
       "      <td>16</td>\n",
       "      <td>259.688155</td>\n",
       "      <td>1.000000</td>\n",
       "      <td>0.962766</td>\n",
       "    </tr>\n",
       "    <tr>\n",
       "      <th>5</th>\n",
       "      <td>Initial_Confs</td>\n",
       "      <td>32</td>\n",
       "      <td>181.392272</td>\n",
       "      <td>0.997375</td>\n",
       "      <td>0.973404</td>\n",
       "    </tr>\n",
       "    <tr>\n",
       "      <th>6</th>\n",
       "      <td>Max_Models</td>\n",
       "      <td>2</td>\n",
       "      <td>172.628465</td>\n",
       "      <td>0.989501</td>\n",
       "      <td>0.973404</td>\n",
       "    </tr>\n",
       "    <tr>\n",
       "      <th>7</th>\n",
       "      <td>Max_Models</td>\n",
       "      <td>4</td>\n",
       "      <td>173.350610</td>\n",
       "      <td>0.994751</td>\n",
       "      <td>0.978723</td>\n",
       "    </tr>\n",
       "    <tr>\n",
       "      <th>8</th>\n",
       "      <td>Max_Models</td>\n",
       "      <td>8</td>\n",
       "      <td>173.051530</td>\n",
       "      <td>1.000000</td>\n",
       "      <td>0.973404</td>\n",
       "    </tr>\n",
       "    <tr>\n",
       "      <th>9</th>\n",
       "      <td>Max_Models</td>\n",
       "      <td>16</td>\n",
       "      <td>177.737179</td>\n",
       "      <td>0.997375</td>\n",
       "      <td>0.973404</td>\n",
       "    </tr>\n",
       "    <tr>\n",
       "      <th>10</th>\n",
       "      <td>Max_Models</td>\n",
       "      <td>32</td>\n",
       "      <td>180.229651</td>\n",
       "      <td>0.997375</td>\n",
       "      <td>0.973404</td>\n",
       "    </tr>\n",
       "    <tr>\n",
       "      <th>11</th>\n",
       "      <td>Max_Models</td>\n",
       "      <td>64</td>\n",
       "      <td>226.606425</td>\n",
       "      <td>1.000000</td>\n",
       "      <td>0.984043</td>\n",
       "    </tr>\n",
       "    <tr>\n",
       "      <th>12</th>\n",
       "      <td>Ensemble_Size</td>\n",
       "      <td>1</td>\n",
       "      <td>173.660152</td>\n",
       "      <td>0.989501</td>\n",
       "      <td>0.968085</td>\n",
       "    </tr>\n",
       "    <tr>\n",
       "      <th>13</th>\n",
       "      <td>Ensemble_Size</td>\n",
       "      <td>2</td>\n",
       "      <td>221.601779</td>\n",
       "      <td>0.992126</td>\n",
       "      <td>0.957447</td>\n",
       "    </tr>\n",
       "    <tr>\n",
       "      <th>14</th>\n",
       "      <td>Ensemble_Size</td>\n",
       "      <td>3</td>\n",
       "      <td>175.258049</td>\n",
       "      <td>0.989501</td>\n",
       "      <td>0.968085</td>\n",
       "    </tr>\n",
       "    <tr>\n",
       "      <th>15</th>\n",
       "      <td>Ensemble_Size</td>\n",
       "      <td>4</td>\n",
       "      <td>229.763798</td>\n",
       "      <td>0.992126</td>\n",
       "      <td>0.968085</td>\n",
       "    </tr>\n",
       "    <tr>\n",
       "      <th>16</th>\n",
       "      <td>Ensemble_Size</td>\n",
       "      <td>8</td>\n",
       "      <td>209.958404</td>\n",
       "      <td>0.992126</td>\n",
       "      <td>0.978723</td>\n",
       "    </tr>\n",
       "    <tr>\n",
       "      <th>17</th>\n",
       "      <td>Ensemble_Size</td>\n",
       "      <td>16</td>\n",
       "      <td>176.340049</td>\n",
       "      <td>0.997375</td>\n",
       "      <td>0.984043</td>\n",
       "    </tr>\n",
       "    <tr>\n",
       "      <th>18</th>\n",
       "      <td>Resampling_Strategy</td>\n",
       "      <td>holdout</td>\n",
       "      <td>250.763094</td>\n",
       "      <td>1.000000</td>\n",
       "      <td>0.984043</td>\n",
       "    </tr>\n",
       "    <tr>\n",
       "      <th>19</th>\n",
       "      <td>Resampling_Strategy</td>\n",
       "      <td>holdout-iterative-fit</td>\n",
       "      <td>199.482238</td>\n",
       "      <td>1.000000</td>\n",
       "      <td>0.946809</td>\n",
       "    </tr>\n",
       "    <tr>\n",
       "      <th>20</th>\n",
       "      <td>Resampling_Strategy</td>\n",
       "      <td>cv</td>\n",
       "      <td>173.657960</td>\n",
       "      <td>0.619423</td>\n",
       "      <td>0.643617</td>\n",
       "    </tr>\n",
       "    <tr>\n",
       "      <th>21</th>\n",
       "      <td>Resampling_Strategy</td>\n",
       "      <td>cv-iterative-fit</td>\n",
       "      <td>177.102477</td>\n",
       "      <td>1.000000</td>\n",
       "      <td>0.978723</td>\n",
       "    </tr>\n",
       "  </tbody>\n",
       "</table>\n",
       "</div>"
      ],
      "text/plain": [
       "                Feature                  Value  Elapsed_Time  Train_Score  \\\n",
       "0         Initial_Confs                      0    238.154013     0.992126   \n",
       "1         Initial_Confs                      2    198.054359     0.992126   \n",
       "2         Initial_Confs                      4    201.945836     0.992126   \n",
       "3         Initial_Confs                      8    225.328915     0.997375   \n",
       "4         Initial_Confs                     16    259.688155     1.000000   \n",
       "5         Initial_Confs                     32    181.392272     0.997375   \n",
       "6            Max_Models                      2    172.628465     0.989501   \n",
       "7            Max_Models                      4    173.350610     0.994751   \n",
       "8            Max_Models                      8    173.051530     1.000000   \n",
       "9            Max_Models                     16    177.737179     0.997375   \n",
       "10           Max_Models                     32    180.229651     0.997375   \n",
       "11           Max_Models                     64    226.606425     1.000000   \n",
       "12        Ensemble_Size                      1    173.660152     0.989501   \n",
       "13        Ensemble_Size                      2    221.601779     0.992126   \n",
       "14        Ensemble_Size                      3    175.258049     0.989501   \n",
       "15        Ensemble_Size                      4    229.763798     0.992126   \n",
       "16        Ensemble_Size                      8    209.958404     0.992126   \n",
       "17        Ensemble_Size                     16    176.340049     0.997375   \n",
       "18  Resampling_Strategy                holdout    250.763094     1.000000   \n",
       "19  Resampling_Strategy  holdout-iterative-fit    199.482238     1.000000   \n",
       "20  Resampling_Strategy                     cv    173.657960     0.619423   \n",
       "21  Resampling_Strategy       cv-iterative-fit    177.102477     1.000000   \n",
       "\n",
       "    Test_Score  \n",
       "0     0.957447  \n",
       "1     0.978723  \n",
       "2     0.994681  \n",
       "3     0.973404  \n",
       "4     0.962766  \n",
       "5     0.973404  \n",
       "6     0.973404  \n",
       "7     0.978723  \n",
       "8     0.973404  \n",
       "9     0.973404  \n",
       "10    0.973404  \n",
       "11    0.984043  \n",
       "12    0.968085  \n",
       "13    0.957447  \n",
       "14    0.968085  \n",
       "15    0.968085  \n",
       "16    0.978723  \n",
       "17    0.984043  \n",
       "18    0.984043  \n",
       "19    0.946809  \n",
       "20    0.643617  \n",
       "21    0.978723  "
      ]
     },
     "execution_count": 6,
     "metadata": {},
     "output_type": "execute_result"
    }
   ],
   "source": [
    "collected_data = pd.read_csv('./models/BreastCancer/autosklearn/logs/log.csv', index_col=[0])\n",
    "collected_data"
   ]
  },
  {
   "cell_type": "code",
   "execution_count": 7,
   "id": "f2fb2510",
   "metadata": {},
   "outputs": [],
   "source": [
    "initial_confs_df = collected_data[collected_data['Feature'] == 'Initial_Confs']\n",
    "max_models_df = collected_data[collected_data['Feature'] == 'Max_Models']\n",
    "ensemble_size_df = collected_data[collected_data['Feature'] == 'Ensemble_Size']\n",
    "resamp_strategy_df = collected_data[collected_data['Feature'] == 'Resampling_Strategy']"
   ]
  },
  {
   "cell_type": "markdown",
   "id": "367baabd",
   "metadata": {},
   "source": [
    "### Initial Configurations Effects"
   ]
  },
  {
   "cell_type": "code",
   "execution_count": 8,
   "id": "f0a53cf0",
   "metadata": {},
   "outputs": [
    {
     "data": {
      "image/png": "[encoded data removed]",
      "text/plain": [
       "<Figure size 432x288 with 1 Axes>"
      ]
     },
     "metadata": {
      "needs_background": "light"
     },
     "output_type": "display_data"
    }
   ],
   "source": [
    "plt.plot(initial_confs_df['Value'], initial_confs_df['Elapsed_Time'], color='green', marker='o')\n",
    "plt.title('Time as a function of Initial Configurations', fontsize=18)\n",
    "plt.xlabel('Initial Configurations', fontsize=14)\n",
    "plt.ylabel('Elapsed Time (sec)', fontsize=14)\n",
    "plt.grid(True)\n",
    "plt.show()"
   ]
  },
  {
   "cell_type": "code",
   "execution_count": 9,
   "id": "a2f55dba",
   "metadata": {
    "scrolled": true
   },
   "outputs": [
    {
     "data": {
      "image/png": "[encoded data removed]",
      "text/plain": [
       "<Figure size 432x288 with 1 Axes>"
      ]
     },
     "metadata": {
      "needs_background": "light"
     },
     "output_type": "display_data"
    }
   ],
   "source": [
    "plt.plot(initial_confs_df['Value'], initial_confs_df['Train_Score'], color='blue', marker='o', label='Train')\n",
    "plt.plot(initial_confs_df['Value'], initial_confs_df['Test_Score'], color='red', marker='o', label='Test')\n",
    "plt.legend()\n",
    "\n",
    "plt.title('Accuracy as a function of Initial Configurations', fontsize=18)\n",
    "plt.xlabel('Initial Configurations', fontsize=14)\n",
    "plt.ylabel('Accuracy', fontsize=14)\n",
    "plt.grid(True)\n",
    "plt.show()"
   ]
  },
  {
   "cell_type": "markdown",
   "id": "2738e35e",
   "metadata": {},
   "source": [
    "### Max Models Effects"
   ]
  },
  {
   "cell_type": "code",
   "execution_count": 10,
   "id": "2f4494a3",
   "metadata": {
    "scrolled": false
   },
   "outputs": [
    {
     "data": {
      "image/png": "[encoded data removed]",
      "text/plain": [
       "<Figure size 432x288 with 1 Axes>"
      ]
     },
     "metadata": {
      "needs_background": "light"
     },
     "output_type": "display_data"
    }
   ],
   "source": [
    "plt.plot(max_models_df['Value'], max_models_df['Elapsed_Time'], color='green', marker='o')\n",
    "plt.title('Time as a function of Max Models', fontsize=18)\n",
    "plt.xlabel('Max Models', fontsize=14)\n",
    "plt.ylabel('Elapsed Time (sec)', fontsize=14)\n",
    "plt.grid(True)\n",
    "plt.show()"
   ]
  },
  {
   "cell_type": "code",
   "execution_count": 11,
   "id": "54ad7310",
   "metadata": {
    "scrolled": false
   },
   "outputs": [
    {
     "data": {
      "image/png": "[encoded data removed]",
      "text/plain": [
       "<Figure size 432x288 with 1 Axes>"
      ]
     },
     "metadata": {
      "needs_background": "light"
     },
     "output_type": "display_data"
    }
   ],
   "source": [
    "plt.plot(max_models_df['Value'], max_models_df['Train_Score'], color='blue', marker='o', label='Train')\n",
    "plt.plot(max_models_df['Value'], max_models_df['Test_Score'], color='red', marker='o', label='Test')\n",
    "plt.legend()\n",
    "\n",
    "plt.title('Accuracy as a function of Max Models', fontsize=18)\n",
    "plt.xlabel('Max Models', fontsize=14)\n",
    "plt.ylabel('Accuracy', fontsize=14)\n",
    "plt.grid(True)\n",
    "plt.show()"
   ]
  },
  {
   "cell_type": "markdown",
   "id": "17844e1d",
   "metadata": {},
   "source": [
    "### Ensemble Size Effects"
   ]
  },
  {
   "cell_type": "code",
   "execution_count": 12,
   "id": "e56cb0d3",
   "metadata": {},
   "outputs": [
    {
     "data": {
      "image/png": "[encoded data removed]",
      "text/plain": [
       "<Figure size 576x288 with 1 Axes>"
      ]
     },
     "metadata": {
      "needs_background": "light"
     },
     "output_type": "display_data"
    }
   ],
   "source": [
    "plt.figure(figsize=(8,4))\n",
    "\n",
    "plt.plot(ensemble_size_df['Value'], ensemble_size_df['Elapsed_Time'], color='green', marker='o')\n",
    "plt.title('Time as a function of Ensemble Size', fontsize=18)\n",
    "plt.xlabel('Ensemble Size', fontsize=14)\n",
    "plt.ylabel('Elapsed Time (sec)', fontsize=14)\n",
    "plt.grid(True)\n",
    "\n",
    "plt.show()"
   ]
  },
  {
   "cell_type": "code",
   "execution_count": 13,
   "id": "1ed7f325",
   "metadata": {
    "scrolled": false
   },
   "outputs": [
    {
     "data": {
      "image/png": "[encoded data removed]",
      "text/plain": [
       "<Figure size 576x288 with 1 Axes>"
      ]
     },
     "metadata": {
      "needs_background": "light"
     },
     "output_type": "display_data"
    }
   ],
   "source": [
    "plt.figure(figsize=(8,4))\n",
    "plt.plot(ensemble_size_df['Value'], ensemble_size_df['Train_Score'], color='blue', marker='o', label='Train')\n",
    "plt.plot(ensemble_size_df['Value'], ensemble_size_df['Test_Score'], color='red', marker='o', label='Test')\n",
    "plt.legend()\n",
    "\n",
    "plt.title('Accuracy as a function of Ensemble Size', fontsize=18)\n",
    "plt.xlabel('Ensemble Size', fontsize=14)\n",
    "plt.ylabel('Accuracy', fontsize=14)\n",
    "plt.grid(True)\n",
    "plt.show()"
   ]
  },
  {
   "cell_type": "markdown",
   "id": "8a211f65",
   "metadata": {},
   "source": [
    "### Remsampling Strategy Effects"
   ]
  },
  {
   "cell_type": "code",
   "execution_count": 18,
   "id": "eef83957",
   "metadata": {
    "scrolled": true
   },
   "outputs": [
    {
     "data": {
      "image/png": "[encoded data removed]",
      "text/plain": [
       "<Figure size 576x288 with 1 Axes>"
      ]
     },
     "metadata": {
      "needs_background": "light"
     },
     "output_type": "display_data"
    }
   ],
   "source": [
    "fig = plt.figure(figsize = (8, 4))\n",
    " \n",
    "# creating the bar plot\n",
    "plt.bar(resamp_strategy_df['Value'], resamp_strategy_df['Elapsed_Time'], color ='green')\n",
    " \n",
    "plt.xlabel(\"Resampling Strategy\", fontsize=14)\n",
    "plt.ylabel(\"Elapsed Time (sec)\", fontsize=14)\n",
    "plt.title(\"Time for each Resampling Strategy\", fontsize=18)\n",
    "plt.show()"
   ]
  },
  {
   "cell_type": "code",
   "execution_count": 19,
   "id": "807f4713",
   "metadata": {},
   "outputs": [
    {
     "data": {
      "image/png": "[encoded data removed]",
      "text/plain": [
       "<Figure size 1080x288 with 1 Axes>"
      ]
     },
     "metadata": {
      "needs_background": "light"
     },
     "output_type": "display_data"
    }
   ],
   "source": [
    "import numpy as np\n",
    "\n",
    "labels = resamp_strategy_df['Value']\n",
    "train_score = np.array(resamp_strategy_df['Train_Score']).round(3)\n",
    "test_score = np.array(resamp_strategy_df['Test_Score']).round(3)\n",
    "\n",
    "x = np.arange(len(labels))  # the label locations\n",
    "width = 0.2  # the width of the bars\n",
    "\n",
    "fig, ax = plt.subplots(figsize=(15,4))\n",
    "rects1 = ax.bar(x - width/2, train_score, width, label='Train')\n",
    "rects2 = ax.bar(x + width/2, test_score, width, label='Test')\n",
    "\n",
    "# Add some text for labels, title and custom x-axis tick labels, etc.\n",
    "ax.set_ylabel('Accuracy', fontsize=14)\n",
    "ax.set_title('Accuracy for Train and Test sets', fontsize=18)\n",
    "ax.set_xticks(x, labels, fontsize=14)\n",
    "ax.legend(loc='lower right')\n",
    "\n",
    "ax.bar_label(rects1, padding=0)\n",
    "ax.bar_label(rects2, padding=0)\n",
    "\n",
    "plt.show()"
   ]
  },
  {
   "cell_type": "code",
   "execution_count": null,
   "id": "df221c0f",
   "metadata": {},
   "outputs": [],
   "source": []
  },
  {
   "cell_type": "code",
   "execution_count": null,
   "id": "976a62e5",
   "metadata": {},
   "outputs": [],
   "source": []
  },
  {
   "cell_type": "code",
   "execution_count": null,
   "id": "e65a8ad6",
   "metadata": {},
   "outputs": [],
   "source": []
  }
 ],
 "metadata": {
  "kernelspec": {
   "display_name": "Python 3 (ipykernel)",
   "language": "python",
   "name": "python3"
  },
  "language_info": {
   "codemirror_mode": {
    "name": "ipython",
    "version": 3
   },
   "file_extension": ".py",
   "mimetype": "text/x-python",
   "name": "python",
   "nbconvert_exporter": "python",
   "pygments_lexer": "ipython3",
   "version": "3.8.10"
  }
 },
 "nbformat": 4,
 "nbformat_minor": 5
}
