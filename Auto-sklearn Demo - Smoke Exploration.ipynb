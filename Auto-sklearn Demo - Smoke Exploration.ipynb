{
 "cells": [
  {
   "cell_type": "markdown",
   "id": "9a557f26",
   "metadata": {},
   "source": [
    "## Auto-sklearn Demonstration (Classification)\n",
    "Smoke Detection\n",
    "https://www.kaggle.com/datasets/deepcontractor/smoke-detection-dataset"
   ]
  },
  {
   "cell_type": "code",
   "execution_count": 6,
   "id": "79ebca09",
   "metadata": {
    "pycharm": {
     "name": "#%%\n"
    }
   },
   "outputs": [],
   "source": [
    "import sklearn.model_selection\n",
    "import sklearn.datasets\n",
    "import sklearn.metrics\n",
    "\n",
    "import pandas as pd\n",
    "import numpy as np\n",
    "\n",
    "# To install autosklearn: pip install pyrfr==0.6.1, then pip install auto-sklearn\n",
    "import autosklearn.classification\n",
    "from autosklearn.metrics import (accuracy, f1, roc_auc, precision,\n",
    "                                average_precision, recall, log_loss)\n",
    "\n",
    "from multi_train import MultiTrain\n",
    "import matplotlib.pyplot as plt\n",
    "\n",
    "# import autosklearn"
   ]
  },
  {
   "cell_type": "markdown",
   "id": "9e98671a",
   "metadata": {},
   "source": [
    "### Data Loading"
   ]
  },
  {
   "cell_type": "code",
   "execution_count": 3,
   "id": "9addcb7e",
   "metadata": {},
   "outputs": [],
   "source": [
    "multi = MultiTrain()"
   ]
  },
  {
   "cell_type": "code",
   "execution_count": 4,
   "id": "8a5ddefd",
   "metadata": {},
   "outputs": [],
   "source": [
    "# X_train = pd.read_csv('./data/Titanic/train.csv',index_col='PassengerId')\n",
    "# y_train = X_train['Survived']\n",
    "\n",
    "# # One hot encode 'Sex', 'Embarked' cols and remove target col\n",
    "# X_train = X_train.join(pd.get_dummies(X_train['Sex']))\n",
    "# X_train = X_train.join(pd.get_dummies(X_train['Embarked']))\n",
    "\n",
    "# X_train = X_train.drop(['Survived', 'Name', 'Sex', 'Cabin', 'Ticket', 'Embarked'], axis=1)\n",
    "\n",
    "# multi.X_train = X_train\n",
    "# multi.y_train = y_train"
   ]
  },
  {
   "cell_type": "code",
   "execution_count": 10,
   "id": "f9f585dd",
   "metadata": {},
   "outputs": [],
   "source": [
    "multi.X_train = pd.read_csv('./data/Smoke/backup/X_train.csv', index_col=[0])\n",
    "multi.y_train = pd.read_csv('./data/Smoke/backup/y_train.csv', index_col=[0])\n",
    "multi.X_test = pd.read_csv('./data/Smoke/backup/X_test.csv', index_col=[0])\n",
    "multi.y_test = pd.read_csv('./data/Smoke/backup/y_test.csv', index_col=[0])"
   ]
  },
  {
   "cell_type": "code",
   "execution_count": 12,
   "id": "dba1ac23",
   "metadata": {
    "scrolled": true
   },
   "outputs": [
    {
     "name": "stdout",
     "output_type": "stream",
     "text": [
      "X_train: (8392, 13) y_train: (8392, 1)\n",
      "X_test: (4134, 13) y_test: (4134, 1)\n"
     ]
    },
    {
     "data": {
      "text/html": [
       "<div>\n",
       "<style scoped>\n",
       "    .dataframe tbody tr th:only-of-type {\n",
       "        vertical-align: middle;\n",
       "    }\n",
       "\n",
       "    .dataframe tbody tr th {\n",
       "        vertical-align: top;\n",
       "    }\n",
       "\n",
       "    .dataframe thead th {\n",
       "        text-align: right;\n",
       "    }\n",
       "</style>\n",
       "<table border=\"1\" class=\"dataframe\">\n",
       "  <thead>\n",
       "    <tr style=\"text-align: right;\">\n",
       "      <th></th>\n",
       "      <th>Temperature[C]</th>\n",
       "      <th>Humidity[%]</th>\n",
       "      <th>TVOC[ppb]</th>\n",
       "      <th>eCO2[ppm]</th>\n",
       "      <th>Raw H2</th>\n",
       "      <th>Raw Ethanol</th>\n",
       "      <th>Pressure[hPa]</th>\n",
       "      <th>PM1.0</th>\n",
       "      <th>PM2.5</th>\n",
       "      <th>NC0.5</th>\n",
       "      <th>NC1.0</th>\n",
       "      <th>NC2.5</th>\n",
       "      <th>CNT</th>\n",
       "    </tr>\n",
       "  </thead>\n",
       "  <tbody>\n",
       "    <tr>\n",
       "      <th>53090</th>\n",
       "      <td>28.150</td>\n",
       "      <td>43.95</td>\n",
       "      <td>127</td>\n",
       "      <td>400</td>\n",
       "      <td>12797</td>\n",
       "      <td>20594</td>\n",
       "      <td>937.366</td>\n",
       "      <td>1.73</td>\n",
       "      <td>1.80</td>\n",
       "      <td>11.94</td>\n",
       "      <td>1.862</td>\n",
       "      <td>0.042</td>\n",
       "      <td>1948</td>\n",
       "    </tr>\n",
       "    <tr>\n",
       "      <th>39120</th>\n",
       "      <td>27.090</td>\n",
       "      <td>47.05</td>\n",
       "      <td>1094</td>\n",
       "      <td>474</td>\n",
       "      <td>12858</td>\n",
       "      <td>19461</td>\n",
       "      <td>938.910</td>\n",
       "      <td>2.08</td>\n",
       "      <td>2.16</td>\n",
       "      <td>14.29</td>\n",
       "      <td>2.228</td>\n",
       "      <td>0.050</td>\n",
       "      <td>14126</td>\n",
       "    </tr>\n",
       "    <tr>\n",
       "      <th>14619</th>\n",
       "      <td>14.698</td>\n",
       "      <td>51.48</td>\n",
       "      <td>1136</td>\n",
       "      <td>467</td>\n",
       "      <td>12852</td>\n",
       "      <td>19450</td>\n",
       "      <td>938.888</td>\n",
       "      <td>1.87</td>\n",
       "      <td>1.94</td>\n",
       "      <td>12.86</td>\n",
       "      <td>2.006</td>\n",
       "      <td>0.045</td>\n",
       "      <td>14619</td>\n",
       "    </tr>\n",
       "    <tr>\n",
       "      <th>46811</th>\n",
       "      <td>24.920</td>\n",
       "      <td>51.55</td>\n",
       "      <td>1379</td>\n",
       "      <td>406</td>\n",
       "      <td>12957</td>\n",
       "      <td>19383</td>\n",
       "      <td>938.725</td>\n",
       "      <td>1.68</td>\n",
       "      <td>1.75</td>\n",
       "      <td>11.58</td>\n",
       "      <td>1.805</td>\n",
       "      <td>0.041</td>\n",
       "      <td>21817</td>\n",
       "    </tr>\n",
       "    <tr>\n",
       "      <th>59190</th>\n",
       "      <td>-2.731</td>\n",
       "      <td>47.28</td>\n",
       "      <td>138</td>\n",
       "      <td>400</td>\n",
       "      <td>12797</td>\n",
       "      <td>20595</td>\n",
       "      <td>937.330</td>\n",
       "      <td>1.88</td>\n",
       "      <td>1.96</td>\n",
       "      <td>12.96</td>\n",
       "      <td>2.020</td>\n",
       "      <td>0.046</td>\n",
       "      <td>2304</td>\n",
       "    </tr>\n",
       "  </tbody>\n",
       "</table>\n",
       "</div>"
      ],
      "text/plain": [
       "       Temperature[C]  Humidity[%]  TVOC[ppb]  eCO2[ppm]  Raw H2  Raw Ethanol  \\\n",
       "53090          28.150        43.95        127        400   12797        20594   \n",
       "39120          27.090        47.05       1094        474   12858        19461   \n",
       "14619          14.698        51.48       1136        467   12852        19450   \n",
       "46811          24.920        51.55       1379        406   12957        19383   \n",
       "59190          -2.731        47.28        138        400   12797        20595   \n",
       "\n",
       "       Pressure[hPa]  PM1.0  PM2.5  NC0.5  NC1.0  NC2.5    CNT  \n",
       "53090        937.366   1.73   1.80  11.94  1.862  0.042   1948  \n",
       "39120        938.910   2.08   2.16  14.29  2.228  0.050  14126  \n",
       "14619        938.888   1.87   1.94  12.86  2.006  0.045  14619  \n",
       "46811        938.725   1.68   1.75  11.58  1.805  0.041  21817  \n",
       "59190        937.330   1.88   1.96  12.96  2.020  0.046   2304  "
      ]
     },
     "execution_count": 12,
     "metadata": {},
     "output_type": "execute_result"
    }
   ],
   "source": [
    "print(\"X_train:\", multi.X_train.shape, \"y_train:\", multi.y_train.shape)\n",
    "print(\"X_test:\", multi.X_test.shape, \"y_test:\", multi.y_test.shape)\n",
    "multi.X_train.head()"
   ]
  },
  {
   "cell_type": "markdown",
   "id": "ac5d74bf",
   "metadata": {},
   "source": [
    "### Build and fit a classifier\n",
    "* **“n_jobs”** - number of cores in the system. (use -1 for as many cores as available).\n",
    "* **“time_left_for_this_task”** argument for the number of seconds for the process to run.\n",
    "<br>&emsp;&emsp;(\"less than 5-10 minutes is probably plenty for many small predictive modeling tasks (sub 1,000 rows).\")\n",
    "* **“per_run_time_limit”** - limit the time allocated to each model evaluation (in seconds).\n",
    "* **\"ensemble_size\"** - number of models to include in the ensemble.\n",
    "* **\"metric\"** - the metric which we want to optimize"
   ]
  },
  {
   "cell_type": "code",
   "execution_count": 16,
   "id": "5dfced33",
   "metadata": {},
   "outputs": [
    {
     "name": "stdout",
     "output_type": "stream",
     "text": [
      "-> Fitting - Initial Configurations: 4\n"
     ]
    },
    {
     "name": "stderr",
     "output_type": "stream",
     "text": [
      "/usr/local/lib/python3.8/dist-packages/distributed/node.py:177: UserWarning: Port 8787 is already in use.\n",
      "Perhaps you already have a cluster running?\n",
      "Hosting the HTTP server on port 33795 instead\n",
      "  warnings.warn(\n",
      "/usr/local/lib/python3.8/dist-packages/autosklearn/metalearning/metalearning/meta_base.py:68: FutureWarning: The frame.append method is deprecated and will be removed from pandas in a future version. Use pandas.concat instead.\n",
      "  self.metafeatures = self.metafeatures.append(metafeatures)\n",
      "/usr/local/lib/python3.8/dist-packages/autosklearn/metalearning/metalearning/meta_base.py:72: FutureWarning: The frame.append method is deprecated and will be removed from pandas in a future version. Use pandas.concat instead.\n",
      "  self.algorithm_runs[metric].append(runs)\n"
     ]
    },
    {
     "name": "stdout",
     "output_type": "stream",
     "text": [
      "Finished - saved to './models/Smoke/autosklearn/autosklearn_Smoke_initial-confs_4.pkl'\n",
      "-> Fitting - Initial Configurations: 8\n"
     ]
    },
    {
     "name": "stderr",
     "output_type": "stream",
     "text": [
      "2022-09-17 13:39:09,597 - tornado.application - ERROR - Exception in callback functools.partial(<bound method IOLoop._discard_future_result of <zmq.eventloop.ioloop.ZMQIOLoop object at 0x417360ca90>>, <Task finished name='Task-1410402' coro=<Worker.heartbeat() done, defined at /usr/local/lib/python3.8/dist-packages/distributed/worker.py:1129> exception=FileNotFoundError(2, 'No such file or directory')>)\n",
      "Traceback (most recent call last):\n",
      "  File \"/usr/local/lib/python3.8/dist-packages/tornado/ioloop.py\", line 741, in _run_callback\n",
      "    ret = callback()\n",
      "  File \"/usr/local/lib/python3.8/dist-packages/tornado/ioloop.py\", line 765, in _discard_future_result\n",
      "    future.result()\n",
      "  File \"/usr/local/lib/python3.8/dist-packages/distributed/worker.py\", line 1134, in heartbeat\n",
      "    logger.debug(\"Heartbeat: %s\", self.address)\n",
      "  File \"/usr/lib/python3.8/logging/__init__.py\", line 1434, in debug\n",
      "    self._log(DEBUG, msg, args, **kwargs)\n",
      "  File \"/usr/lib/python3.8/logging/__init__.py\", line 1589, in _log\n",
      "    self.handle(record)\n",
      "  File \"/usr/lib/python3.8/logging/__init__.py\", line 1599, in handle\n",
      "    self.callHandlers(record)\n",
      "  File \"/usr/lib/python3.8/logging/__init__.py\", line 1661, in callHandlers\n",
      "    hdlr.handle(record)\n",
      "  File \"/usr/lib/python3.8/logging/__init__.py\", line 954, in handle\n",
      "    self.emit(record)\n",
      "  File \"/usr/lib/python3.8/logging/__init__.py\", line 1186, in emit\n",
      "    self.stream = self._open()\n",
      "  File \"/usr/lib/python3.8/logging/__init__.py\", line 1176, in _open\n",
      "    return open(self.baseFilename, self.mode, encoding=self.encoding)\n",
      "FileNotFoundError: [Errno 2] No such file or directory: '/tmp/auto-sklearn_tmp_1155afc5-3674-11ed-aec8-0242ac110002/distributed.log'\n",
      "2022-09-17 13:39:09,627 - tornado.application - ERROR - Exception in callback functools.partial(<bound method IOLoop._discard_future_result of <zmq.eventloop.ioloop.ZMQIOLoop object at 0x417360ca90>>, <Task finished name='Task-1410403' coro=<Worker.heartbeat() done, defined at /usr/local/lib/python3.8/dist-packages/distributed/worker.py:1129> exception=FileNotFoundError(2, 'No such file or directory')>)\n",
      "Traceback (most recent call last):\n",
      "  File \"/usr/local/lib/python3.8/dist-packages/tornado/ioloop.py\", line 741, in _run_callback\n",
      "    ret = callback()\n",
      "  File \"/usr/local/lib/python3.8/dist-packages/tornado/ioloop.py\", line 765, in _discard_future_result\n",
      "    future.result()\n",
      "  File \"/usr/local/lib/python3.8/dist-packages/distributed/worker.py\", line 1134, in heartbeat\n",
      "    logger.debug(\"Heartbeat: %s\", self.address)\n",
      "  File \"/usr/lib/python3.8/logging/__init__.py\", line 1434, in debug\n",
      "    self._log(DEBUG, msg, args, **kwargs)\n",
      "  File \"/usr/lib/python3.8/logging/__init__.py\", line 1589, in _log\n",
      "    self.handle(record)\n",
      "  File \"/usr/lib/python3.8/logging/__init__.py\", line 1599, in handle\n",
      "    self.callHandlers(record)\n",
      "  File \"/usr/lib/python3.8/logging/__init__.py\", line 1661, in callHandlers\n",
      "    hdlr.handle(record)\n",
      "  File \"/usr/lib/python3.8/logging/__init__.py\", line 954, in handle\n",
      "    self.emit(record)\n",
      "  File \"/usr/lib/python3.8/logging/__init__.py\", line 1186, in emit\n",
      "    self.stream = self._open()\n",
      "  File \"/usr/lib/python3.8/logging/__init__.py\", line 1176, in _open\n",
      "    return open(self.baseFilename, self.mode, encoding=self.encoding)\n",
      "FileNotFoundError: [Errno 2] No such file or directory: '/tmp/auto-sklearn_tmp_1155afc5-3674-11ed-aec8-0242ac110002/distributed.log'\n",
      "/usr/local/lib/python3.8/dist-packages/distributed/node.py:177: UserWarning: Port 8787 is already in use.\n",
      "Perhaps you already have a cluster running?\n",
      "Hosting the HTTP server on port 42853 instead\n",
      "  warnings.warn(\n",
      "/usr/local/lib/python3.8/dist-packages/autosklearn/metalearning/metalearning/meta_base.py:68: FutureWarning: The frame.append method is deprecated and will be removed from pandas in a future version. Use pandas.concat instead.\n",
      "  self.metafeatures = self.metafeatures.append(metafeatures)\n",
      "/usr/local/lib/python3.8/dist-packages/autosklearn/metalearning/metalearning/meta_base.py:72: FutureWarning: The frame.append method is deprecated and will be removed from pandas in a future version. Use pandas.concat instead.\n",
      "  self.algorithm_runs[metric].append(runs)\n"
     ]
    },
    {
     "name": "stdout",
     "output_type": "stream",
     "text": [
      "Finished - saved to './models/Smoke/autosklearn/autosklearn_Smoke_initial-confs_8.pkl'\n",
      "-> Fitting - Initial Configurations: 16\n"
     ]
    },
    {
     "name": "stderr",
     "output_type": "stream",
     "text": [
      "2022-09-17 13:49:31,305 - tornado.application - ERROR - Exception in callback functools.partial(<bound method IOLoop._discard_future_result of <zmq.eventloop.ioloop.ZMQIOLoop object at 0x417360ca90>>, <Task finished name='Task-1433768' coro=<Worker.heartbeat() done, defined at /usr/local/lib/python3.8/dist-packages/distributed/worker.py:1129> exception=FileNotFoundError(2, 'No such file or directory')>)\n",
      "Traceback (most recent call last):\n",
      "  File \"/usr/local/lib/python3.8/dist-packages/tornado/ioloop.py\", line 741, in _run_callback\n",
      "    ret = callback()\n",
      "  File \"/usr/local/lib/python3.8/dist-packages/tornado/ioloop.py\", line 765, in _discard_future_result\n",
      "    future.result()\n",
      "  File \"/usr/local/lib/python3.8/dist-packages/distributed/worker.py\", line 1131, in heartbeat\n",
      "    logger.debug(\"Heartbeat skipped: channel busy\")\n",
      "  File \"/usr/lib/python3.8/logging/__init__.py\", line 1434, in debug\n",
      "    self._log(DEBUG, msg, args, **kwargs)\n",
      "  File \"/usr/lib/python3.8/logging/__init__.py\", line 1589, in _log\n",
      "    self.handle(record)\n",
      "  File \"/usr/lib/python3.8/logging/__init__.py\", line 1599, in handle\n",
      "    self.callHandlers(record)\n",
      "  File \"/usr/lib/python3.8/logging/__init__.py\", line 1661, in callHandlers\n",
      "    hdlr.handle(record)\n",
      "  File \"/usr/lib/python3.8/logging/__init__.py\", line 954, in handle\n",
      "    self.emit(record)\n",
      "  File \"/usr/lib/python3.8/logging/__init__.py\", line 1186, in emit\n",
      "    self.stream = self._open()\n",
      "  File \"/usr/lib/python3.8/logging/__init__.py\", line 1176, in _open\n",
      "    return open(self.baseFilename, self.mode, encoding=self.encoding)\n",
      "FileNotFoundError: [Errno 2] No such file or directory: '/tmp/auto-sklearn_tmp_f64eecfa-3674-11ed-aec8-0242ac110002/distributed.log'\n",
      "2022-09-17 13:49:31,310 - tornado.application - ERROR - Exception in callback functools.partial(<bound method IOLoop._discard_future_result of <zmq.eventloop.ioloop.ZMQIOLoop object at 0x417360ca90>>, <Task finished name='Task-1433769' coro=<Worker.heartbeat() done, defined at /usr/local/lib/python3.8/dist-packages/distributed/worker.py:1129> exception=FileNotFoundError(2, 'No such file or directory')>)\n",
      "Traceback (most recent call last):\n",
      "  File \"/usr/local/lib/python3.8/dist-packages/tornado/ioloop.py\", line 741, in _run_callback\n",
      "    ret = callback()\n",
      "  File \"/usr/local/lib/python3.8/dist-packages/tornado/ioloop.py\", line 765, in _discard_future_result\n",
      "    future.result()\n",
      "  File \"/usr/local/lib/python3.8/dist-packages/distributed/worker.py\", line 1131, in heartbeat\n",
      "    logger.debug(\"Heartbeat skipped: channel busy\")\n",
      "  File \"/usr/lib/python3.8/logging/__init__.py\", line 1434, in debug\n",
      "    self._log(DEBUG, msg, args, **kwargs)\n",
      "  File \"/usr/lib/python3.8/logging/__init__.py\", line 1589, in _log\n",
      "    self.handle(record)\n",
      "  File \"/usr/lib/python3.8/logging/__init__.py\", line 1599, in handle\n",
      "    self.callHandlers(record)\n",
      "  File \"/usr/lib/python3.8/logging/__init__.py\", line 1661, in callHandlers\n",
      "    hdlr.handle(record)\n",
      "  File \"/usr/lib/python3.8/logging/__init__.py\", line 954, in handle\n",
      "    self.emit(record)\n",
      "  File \"/usr/lib/python3.8/logging/__init__.py\", line 1186, in emit\n",
      "    self.stream = self._open()\n",
      "  File \"/usr/lib/python3.8/logging/__init__.py\", line 1176, in _open\n",
      "    return open(self.baseFilename, self.mode, encoding=self.encoding)\n",
      "FileNotFoundError: [Errno 2] No such file or directory: '/tmp/auto-sklearn_tmp_f64eecfa-3674-11ed-aec8-0242ac110002/distributed.log'\n",
      "2022-09-17 13:49:31,317 - tornado.application - ERROR - Exception in callback functools.partial(<bound method IOLoop._discard_future_result of <zmq.eventloop.ioloop.ZMQIOLoop object at 0x417360ca90>>, <Task finished name='Task-1433770' coro=<Worker.heartbeat() done, defined at /usr/local/lib/python3.8/dist-packages/distributed/worker.py:1129> exception=FileNotFoundError(2, 'No such file or directory')>)\n",
      "Traceback (most recent call last):\n",
      "  File \"/usr/local/lib/python3.8/dist-packages/tornado/ioloop.py\", line 741, in _run_callback\n",
      "    ret = callback()\n",
      "  File \"/usr/local/lib/python3.8/dist-packages/tornado/ioloop.py\", line 765, in _discard_future_result\n",
      "    future.result()\n",
      "  File \"/usr/local/lib/python3.8/dist-packages/distributed/worker.py\", line 1134, in heartbeat\n",
      "    logger.debug(\"Heartbeat: %s\", self.address)\n",
      "  File \"/usr/lib/python3.8/logging/__init__.py\", line 1434, in debug\n",
      "    self._log(DEBUG, msg, args, **kwargs)\n",
      "  File \"/usr/lib/python3.8/logging/__init__.py\", line 1589, in _log\n",
      "    self.handle(record)\n",
      "  File \"/usr/lib/python3.8/logging/__init__.py\", line 1599, in handle\n",
      "    self.callHandlers(record)\n",
      "  File \"/usr/lib/python3.8/logging/__init__.py\", line 1661, in callHandlers\n",
      "    hdlr.handle(record)\n",
      "  File \"/usr/lib/python3.8/logging/__init__.py\", line 954, in handle\n",
      "    self.emit(record)\n",
      "  File \"/usr/lib/python3.8/logging/__init__.py\", line 1186, in emit\n",
      "    self.stream = self._open()\n",
      "  File \"/usr/lib/python3.8/logging/__init__.py\", line 1176, in _open\n",
      "    return open(self.baseFilename, self.mode, encoding=self.encoding)\n",
      "FileNotFoundError: [Errno 2] No such file or directory: '/tmp/auto-sklearn_tmp_f64eecfa-3674-11ed-aec8-0242ac110002/distributed.log'\n",
      "2022-09-17 13:49:31,323 - tornado.application - ERROR - Exception in callback functools.partial(<bound method IOLoop._discard_future_result of <zmq.eventloop.ioloop.ZMQIOLoop object at 0x417360ca90>>, <Task finished name='Task-1433771' coro=<Worker.heartbeat() done, defined at /usr/local/lib/python3.8/dist-packages/distributed/worker.py:1129> exception=FileNotFoundError(2, 'No such file or directory')>)\n",
      "Traceback (most recent call last):\n",
      "  File \"/usr/local/lib/python3.8/dist-packages/tornado/ioloop.py\", line 741, in _run_callback\n",
      "    ret = callback()\n",
      "  File \"/usr/local/lib/python3.8/dist-packages/tornado/ioloop.py\", line 765, in _discard_future_result\n",
      "    future.result()\n",
      "  File \"/usr/local/lib/python3.8/dist-packages/distributed/worker.py\", line 1134, in heartbeat\n",
      "    logger.debug(\"Heartbeat: %s\", self.address)\n",
      "  File \"/usr/lib/python3.8/logging/__init__.py\", line 1434, in debug\n",
      "    self._log(DEBUG, msg, args, **kwargs)\n",
      "  File \"/usr/lib/python3.8/logging/__init__.py\", line 1589, in _log\n",
      "    self.handle(record)\n",
      "  File \"/usr/lib/python3.8/logging/__init__.py\", line 1599, in handle\n",
      "    self.callHandlers(record)\n",
      "  File \"/usr/lib/python3.8/logging/__init__.py\", line 1661, in callHandlers\n",
      "    hdlr.handle(record)\n",
      "  File \"/usr/lib/python3.8/logging/__init__.py\", line 954, in handle\n",
      "    self.emit(record)\n",
      "  File \"/usr/lib/python3.8/logging/__init__.py\", line 1186, in emit\n",
      "    self.stream = self._open()\n",
      "  File \"/usr/lib/python3.8/logging/__init__.py\", line 1176, in _open\n",
      "    return open(self.baseFilename, self.mode, encoding=self.encoding)\n",
      "FileNotFoundError: [Errno 2] No such file or directory: '/tmp/auto-sklearn_tmp_f64eecfa-3674-11ed-aec8-0242ac110002/distributed.log'\n",
      "2022-09-17 13:49:31,334 - tornado.application - ERROR - Exception in callback functools.partial(<bound method IOLoop._discard_future_result of <zmq.eventloop.ioloop.ZMQIOLoop object at 0x417360ca90>>, <Task finished name='Task-1433772' coro=<Worker.heartbeat() done, defined at /usr/local/lib/python3.8/dist-packages/distributed/worker.py:1129> exception=FileNotFoundError(2, 'No such file or directory')>)\n",
      "Traceback (most recent call last):\n",
      "  File \"/usr/local/lib/python3.8/dist-packages/tornado/ioloop.py\", line 741, in _run_callback\n",
      "    ret = callback()\n",
      "  File \"/usr/local/lib/python3.8/dist-packages/tornado/ioloop.py\", line 765, in _discard_future_result\n",
      "    future.result()\n",
      "  File \"/usr/local/lib/python3.8/dist-packages/distributed/worker.py\", line 1134, in heartbeat\n",
      "    logger.debug(\"Heartbeat: %s\", self.address)\n",
      "  File \"/usr/lib/python3.8/logging/__init__.py\", line 1434, in debug\n",
      "    self._log(DEBUG, msg, args, **kwargs)\n",
      "  File \"/usr/lib/python3.8/logging/__init__.py\", line 1589, in _log\n",
      "    self.handle(record)\n",
      "  File \"/usr/lib/python3.8/logging/__init__.py\", line 1599, in handle\n",
      "    self.callHandlers(record)\n",
      "  File \"/usr/lib/python3.8/logging/__init__.py\", line 1661, in callHandlers\n",
      "    hdlr.handle(record)\n",
      "  File \"/usr/lib/python3.8/logging/__init__.py\", line 954, in handle\n",
      "    self.emit(record)\n",
      "  File \"/usr/lib/python3.8/logging/__init__.py\", line 1186, in emit\n",
      "    self.stream = self._open()\n",
      "  File \"/usr/lib/python3.8/logging/__init__.py\", line 1176, in _open\n",
      "    return open(self.baseFilename, self.mode, encoding=self.encoding)\n",
      "FileNotFoundError: [Errno 2] No such file or directory: '/tmp/auto-sklearn_tmp_f64eecfa-3674-11ed-aec8-0242ac110002/distributed.log'\n"
     ]
    },
    {
     "name": "stderr",
     "output_type": "stream",
     "text": [
      "/usr/local/lib/python3.8/dist-packages/distributed/node.py:177: UserWarning: Port 8787 is already in use.\n",
      "Perhaps you already have a cluster running?\n",
      "Hosting the HTTP server on port 40745 instead\n",
      "  warnings.warn(\n",
      "/usr/local/lib/python3.8/dist-packages/autosklearn/metalearning/metalearning/meta_base.py:68: FutureWarning: The frame.append method is deprecated and will be removed from pandas in a future version. Use pandas.concat instead.\n",
      "  self.metafeatures = self.metafeatures.append(metafeatures)\n",
      "/usr/local/lib/python3.8/dist-packages/autosklearn/metalearning/metalearning/meta_base.py:72: FutureWarning: The frame.append method is deprecated and will be removed from pandas in a future version. Use pandas.concat instead.\n",
      "  self.algorithm_runs[metric].append(runs)\n"
     ]
    },
    {
     "name": "stdout",
     "output_type": "stream",
     "text": [
      "Finished - saved to './models/Smoke/autosklearn/autosklearn_Smoke_initial-confs_16.pkl'\n",
      "-> Fitting - Initial Configurations: 32\n"
     ]
    },
    {
     "name": "stderr",
     "output_type": "stream",
     "text": [
      "/usr/local/lib/python3.8/dist-packages/distributed/node.py:177: UserWarning: Port 8787 is already in use.\n",
      "Perhaps you already have a cluster running?\n",
      "Hosting the HTTP server on port 37195 instead\n",
      "  warnings.warn(\n",
      "/usr/local/lib/python3.8/dist-packages/autosklearn/metalearning/metalearning/meta_base.py:68: FutureWarning: The frame.append method is deprecated and will be removed from pandas in a future version. Use pandas.concat instead.\n",
      "  self.metafeatures = self.metafeatures.append(metafeatures)\n",
      "/usr/local/lib/python3.8/dist-packages/autosklearn/metalearning/metalearning/meta_base.py:72: FutureWarning: The frame.append method is deprecated and will be removed from pandas in a future version. Use pandas.concat instead.\n",
      "  self.algorithm_runs[metric].append(runs)\n"
     ]
    },
    {
     "name": "stdout",
     "output_type": "stream",
     "text": [
      "Finished - saved to './models/Smoke/autosklearn/autosklearn_Smoke_initial-confs_32.pkl'\n",
      "-> Fitting - Max Models on Disc: 1\n"
     ]
    },
    {
     "name": "stderr",
     "output_type": "stream",
     "text": [
      "/usr/local/lib/python3.8/dist-packages/distributed/node.py:177: UserWarning: Port 8787 is already in use.\n",
      "Perhaps you already have a cluster running?\n",
      "Hosting the HTTP server on port 35413 instead\n",
      "  warnings.warn(\n",
      "/usr/local/lib/python3.8/dist-packages/autosklearn/metalearning/metalearning/meta_base.py:68: FutureWarning: The frame.append method is deprecated and will be removed from pandas in a future version. Use pandas.concat instead.\n",
      "  self.metafeatures = self.metafeatures.append(metafeatures)\n",
      "/usr/local/lib/python3.8/dist-packages/autosklearn/metalearning/metalearning/meta_base.py:72: FutureWarning: The frame.append method is deprecated and will be removed from pandas in a future version. Use pandas.concat instead.\n",
      "  self.algorithm_runs[metric].append(runs)\n"
     ]
    },
    {
     "name": "stdout",
     "output_type": "stream",
     "text": [
      "Finished - saved to './models/Smoke/autosklearn/autosklearn_Smoke_max-models_1.pkl'\n",
      "-> Fitting - Max Models on Disc: 2\n"
     ]
    },
    {
     "name": "stderr",
     "output_type": "stream",
     "text": [
      "/usr/local/lib/python3.8/dist-packages/distributed/node.py:177: UserWarning: Port 8787 is already in use.\n",
      "Perhaps you already have a cluster running?\n",
      "Hosting the HTTP server on port 36857 instead\n",
      "  warnings.warn(\n",
      "/usr/local/lib/python3.8/dist-packages/autosklearn/metalearning/metalearning/meta_base.py:68: FutureWarning: The frame.append method is deprecated and will be removed from pandas in a future version. Use pandas.concat instead.\n",
      "  self.metafeatures = self.metafeatures.append(metafeatures)\n",
      "/usr/local/lib/python3.8/dist-packages/autosklearn/metalearning/metalearning/meta_base.py:72: FutureWarning: The frame.append method is deprecated and will be removed from pandas in a future version. Use pandas.concat instead.\n",
      "  self.algorithm_runs[metric].append(runs)\n"
     ]
    },
    {
     "name": "stdout",
     "output_type": "stream",
     "text": [
      "Finished - saved to './models/Smoke/autosklearn/autosklearn_Smoke_max-models_2.pkl'\n",
      "-> Fitting - Max Models on Disc: 4\n"
     ]
    },
    {
     "name": "stderr",
     "output_type": "stream",
     "text": [
      "/usr/local/lib/python3.8/dist-packages/distributed/node.py:177: UserWarning: Port 8787 is already in use.\n",
      "Perhaps you already have a cluster running?\n",
      "Hosting the HTTP server on port 43041 instead\n",
      "  warnings.warn(\n",
      "/usr/local/lib/python3.8/dist-packages/autosklearn/metalearning/metalearning/meta_base.py:68: FutureWarning: The frame.append method is deprecated and will be removed from pandas in a future version. Use pandas.concat instead.\n",
      "  self.metafeatures = self.metafeatures.append(metafeatures)\n",
      "/usr/local/lib/python3.8/dist-packages/autosklearn/metalearning/metalearning/meta_base.py:72: FutureWarning: The frame.append method is deprecated and will be removed from pandas in a future version. Use pandas.concat instead.\n",
      "  self.algorithm_runs[metric].append(runs)\n"
     ]
    },
    {
     "name": "stdout",
     "output_type": "stream",
     "text": [
      "Finished - saved to './models/Smoke/autosklearn/autosklearn_Smoke_max-models_4.pkl'\n",
      "-> Fitting - Max Models on Disc: 8\n"
     ]
    },
    {
     "name": "stderr",
     "output_type": "stream",
     "text": [
      "/usr/local/lib/python3.8/dist-packages/distributed/node.py:177: UserWarning: Port 8787 is already in use.\n",
      "Perhaps you already have a cluster running?\n",
      "Hosting the HTTP server on port 40203 instead\n",
      "  warnings.warn(\n",
      "/usr/local/lib/python3.8/dist-packages/autosklearn/metalearning/metalearning/meta_base.py:68: FutureWarning: The frame.append method is deprecated and will be removed from pandas in a future version. Use pandas.concat instead.\n",
      "  self.metafeatures = self.metafeatures.append(metafeatures)\n",
      "/usr/local/lib/python3.8/dist-packages/autosklearn/metalearning/metalearning/meta_base.py:72: FutureWarning: The frame.append method is deprecated and will be removed from pandas in a future version. Use pandas.concat instead.\n",
      "  self.algorithm_runs[metric].append(runs)\n"
     ]
    },
    {
     "name": "stdout",
     "output_type": "stream",
     "text": [
      "Finished - saved to './models/Smoke/autosklearn/autosklearn_Smoke_max-models_8.pkl'\n",
      "-> Fitting - Max Models on Disc: 16\n"
     ]
    },
    {
     "name": "stderr",
     "output_type": "stream",
     "text": [
      "2022-09-17 14:42:17,510 - tornado.application - ERROR - Exception in callback functools.partial(<bound method IOLoop._discard_future_result of <zmq.eventloop.ioloop.ZMQIOLoop object at 0x417360ca90>>, <Task finished name='Task-1511959' coro=<Worker.heartbeat() done, defined at /usr/local/lib/python3.8/dist-packages/distributed/worker.py:1129> exception=FileNotFoundError(2, 'No such file or directory')>)\n",
      "Traceback (most recent call last):\n",
      "  File \"/usr/local/lib/python3.8/dist-packages/tornado/ioloop.py\", line 741, in _run_callback\n",
      "    ret = callback()\n",
      "  File \"/usr/local/lib/python3.8/dist-packages/tornado/ioloop.py\", line 765, in _discard_future_result\n",
      "    future.result()\n",
      "  File \"/usr/local/lib/python3.8/dist-packages/distributed/worker.py\", line 1131, in heartbeat\n",
      "    logger.debug(\"Heartbeat skipped: channel busy\")\n",
      "  File \"/usr/lib/python3.8/logging/__init__.py\", line 1434, in debug\n",
      "    self._log(DEBUG, msg, args, **kwargs)\n",
      "  File \"/usr/lib/python3.8/logging/__init__.py\", line 1589, in _log\n",
      "    self.handle(record)\n",
      "  File \"/usr/lib/python3.8/logging/__init__.py\", line 1599, in handle\n",
      "    self.callHandlers(record)\n",
      "  File \"/usr/lib/python3.8/logging/__init__.py\", line 1661, in callHandlers\n",
      "    hdlr.handle(record)\n",
      "  File \"/usr/lib/python3.8/logging/__init__.py\", line 954, in handle\n",
      "    self.emit(record)\n",
      "  File \"/usr/lib/python3.8/logging/__init__.py\", line 1186, in emit\n",
      "    self.stream = self._open()\n",
      "  File \"/usr/lib/python3.8/logging/__init__.py\", line 1176, in _open\n",
      "    return open(self.baseFilename, self.mode, encoding=self.encoding)\n",
      "FileNotFoundError: [Errno 2] No such file or directory: '/tmp/auto-sklearn_tmp_d847caee-367c-11ed-aec8-0242ac110002/distributed.log'\n",
      "2022-09-17 14:42:17,515 - tornado.application - ERROR - Exception in callback functools.partial(<bound method IOLoop._discard_future_result of <zmq.eventloop.ioloop.ZMQIOLoop object at 0x417360ca90>>, <Task finished name='Task-1511960' coro=<Worker.heartbeat() done, defined at /usr/local/lib/python3.8/dist-packages/distributed/worker.py:1129> exception=FileNotFoundError(2, 'No such file or directory')>)\n",
      "Traceback (most recent call last):\n",
      "  File \"/usr/local/lib/python3.8/dist-packages/tornado/ioloop.py\", line 741, in _run_callback\n",
      "    ret = callback()\n",
      "  File \"/usr/local/lib/python3.8/dist-packages/tornado/ioloop.py\", line 765, in _discard_future_result\n",
      "    future.result()\n",
      "  File \"/usr/local/lib/python3.8/dist-packages/distributed/worker.py\", line 1131, in heartbeat\n",
      "    logger.debug(\"Heartbeat skipped: channel busy\")\n",
      "  File \"/usr/lib/python3.8/logging/__init__.py\", line 1434, in debug\n",
      "    self._log(DEBUG, msg, args, **kwargs)\n",
      "  File \"/usr/lib/python3.8/logging/__init__.py\", line 1589, in _log\n",
      "    self.handle(record)\n",
      "  File \"/usr/lib/python3.8/logging/__init__.py\", line 1599, in handle\n",
      "    self.callHandlers(record)\n",
      "  File \"/usr/lib/python3.8/logging/__init__.py\", line 1661, in callHandlers\n",
      "    hdlr.handle(record)\n",
      "  File \"/usr/lib/python3.8/logging/__init__.py\", line 954, in handle\n",
      "    self.emit(record)\n",
      "  File \"/usr/lib/python3.8/logging/__init__.py\", line 1186, in emit\n",
      "    self.stream = self._open()\n",
      "  File \"/usr/lib/python3.8/logging/__init__.py\", line 1176, in _open\n",
      "    return open(self.baseFilename, self.mode, encoding=self.encoding)\n",
      "FileNotFoundError: [Errno 2] No such file or directory: '/tmp/auto-sklearn_tmp_d847caee-367c-11ed-aec8-0242ac110002/distributed.log'\n",
      "2022-09-17 14:42:17,531 - tornado.application - ERROR - Exception in callback functools.partial(<bound method IOLoop._discard_future_result of <zmq.eventloop.ioloop.ZMQIOLoop object at 0x417360ca90>>, <Task finished name='Task-1511961' coro=<Worker.heartbeat() done, defined at /usr/local/lib/python3.8/dist-packages/distributed/worker.py:1129> exception=FileNotFoundError(2, 'No such file or directory')>)\n",
      "Traceback (most recent call last):\n",
      "  File \"/usr/local/lib/python3.8/dist-packages/tornado/ioloop.py\", line 741, in _run_callback\n",
      "    ret = callback()\n",
      "  File \"/usr/local/lib/python3.8/dist-packages/tornado/ioloop.py\", line 765, in _discard_future_result\n",
      "    future.result()\n",
      "  File \"/usr/local/lib/python3.8/dist-packages/distributed/worker.py\", line 1131, in heartbeat\n",
      "    logger.debug(\"Heartbeat skipped: channel busy\")\n",
      "  File \"/usr/lib/python3.8/logging/__init__.py\", line 1434, in debug\n",
      "    self._log(DEBUG, msg, args, **kwargs)\n",
      "  File \"/usr/lib/python3.8/logging/__init__.py\", line 1589, in _log\n",
      "    self.handle(record)\n",
      "  File \"/usr/lib/python3.8/logging/__init__.py\", line 1599, in handle\n",
      "    self.callHandlers(record)\n",
      "  File \"/usr/lib/python3.8/logging/__init__.py\", line 1661, in callHandlers\n",
      "    hdlr.handle(record)\n",
      "  File \"/usr/lib/python3.8/logging/__init__.py\", line 954, in handle\n",
      "    self.emit(record)\n",
      "  File \"/usr/lib/python3.8/logging/__init__.py\", line 1186, in emit\n",
      "    self.stream = self._open()\n",
      "  File \"/usr/lib/python3.8/logging/__init__.py\", line 1176, in _open\n",
      "    return open(self.baseFilename, self.mode, encoding=self.encoding)\n",
      "FileNotFoundError: [Errno 2] No such file or directory: '/tmp/auto-sklearn_tmp_d847caee-367c-11ed-aec8-0242ac110002/distributed.log'\n",
      "2022-09-17 14:42:17,543 - tornado.application - ERROR - Exception in callback functools.partial(<bound method IOLoop._discard_future_result of <zmq.eventloop.ioloop.ZMQIOLoop object at 0x417360ca90>>, <Task finished name='Task-1511962' coro=<Worker.heartbeat() done, defined at /usr/local/lib/python3.8/dist-packages/distributed/worker.py:1129> exception=FileNotFoundError(2, 'No such file or directory')>)\n",
      "Traceback (most recent call last):\n",
      "  File \"/usr/local/lib/python3.8/dist-packages/tornado/ioloop.py\", line 741, in _run_callback\n",
      "    ret = callback()\n",
      "  File \"/usr/local/lib/python3.8/dist-packages/tornado/ioloop.py\", line 765, in _discard_future_result\n",
      "    future.result()\n",
      "  File \"/usr/local/lib/python3.8/dist-packages/distributed/worker.py\", line 1131, in heartbeat\n",
      "    logger.debug(\"Heartbeat skipped: channel busy\")\n",
      "  File \"/usr/lib/python3.8/logging/__init__.py\", line 1434, in debug\n",
      "    self._log(DEBUG, msg, args, **kwargs)\n",
      "  File \"/usr/lib/python3.8/logging/__init__.py\", line 1589, in _log\n",
      "    self.handle(record)\n",
      "  File \"/usr/lib/python3.8/logging/__init__.py\", line 1599, in handle\n",
      "    self.callHandlers(record)\n",
      "  File \"/usr/lib/python3.8/logging/__init__.py\", line 1661, in callHandlers\n",
      "    hdlr.handle(record)\n",
      "  File \"/usr/lib/python3.8/logging/__init__.py\", line 954, in handle\n",
      "    self.emit(record)\n",
      "  File \"/usr/lib/python3.8/logging/__init__.py\", line 1186, in emit\n",
      "    self.stream = self._open()\n",
      "  File \"/usr/lib/python3.8/logging/__init__.py\", line 1176, in _open\n",
      "    return open(self.baseFilename, self.mode, encoding=self.encoding)\n",
      "FileNotFoundError: [Errno 2] No such file or directory: '/tmp/auto-sklearn_tmp_d847caee-367c-11ed-aec8-0242ac110002/distributed.log'\n",
      "2022-09-17 14:42:17,550 - tornado.application - ERROR - Exception in callback functools.partial(<bound method IOLoop._discard_future_result of <zmq.eventloop.ioloop.ZMQIOLoop object at 0x417360ca90>>, <Task finished name='Task-1511963' coro=<Worker.heartbeat() done, defined at /usr/local/lib/python3.8/dist-packages/distributed/worker.py:1129> exception=FileNotFoundError(2, 'No such file or directory')>)\n",
      "Traceback (most recent call last):\n",
      "  File \"/usr/local/lib/python3.8/dist-packages/tornado/ioloop.py\", line 741, in _run_callback\n",
      "    ret = callback()\n",
      "  File \"/usr/local/lib/python3.8/dist-packages/tornado/ioloop.py\", line 765, in _discard_future_result\n",
      "    future.result()\n",
      "  File \"/usr/local/lib/python3.8/dist-packages/distributed/worker.py\", line 1131, in heartbeat\n",
      "    logger.debug(\"Heartbeat skipped: channel busy\")\n",
      "  File \"/usr/lib/python3.8/logging/__init__.py\", line 1434, in debug\n",
      "    self._log(DEBUG, msg, args, **kwargs)\n",
      "  File \"/usr/lib/python3.8/logging/__init__.py\", line 1589, in _log\n",
      "    self.handle(record)\n",
      "  File \"/usr/lib/python3.8/logging/__init__.py\", line 1599, in handle\n",
      "    self.callHandlers(record)\n",
      "  File \"/usr/lib/python3.8/logging/__init__.py\", line 1661, in callHandlers\n",
      "    hdlr.handle(record)\n",
      "  File \"/usr/lib/python3.8/logging/__init__.py\", line 954, in handle\n",
      "    self.emit(record)\n",
      "  File \"/usr/lib/python3.8/logging/__init__.py\", line 1186, in emit\n",
      "    self.stream = self._open()\n",
      "  File \"/usr/lib/python3.8/logging/__init__.py\", line 1176, in _open\n",
      "    return open(self.baseFilename, self.mode, encoding=self.encoding)\n",
      "FileNotFoundError: [Errno 2] No such file or directory: '/tmp/auto-sklearn_tmp_d847caee-367c-11ed-aec8-0242ac110002/distributed.log'\n"
     ]
    },
    {
     "name": "stderr",
     "output_type": "stream",
     "text": [
      "/usr/local/lib/python3.8/dist-packages/distributed/node.py:177: UserWarning: Port 8787 is already in use.\n",
      "Perhaps you already have a cluster running?\n",
      "Hosting the HTTP server on port 46417 instead\n",
      "  warnings.warn(\n",
      "/usr/local/lib/python3.8/dist-packages/autosklearn/metalearning/metalearning/meta_base.py:68: FutureWarning: The frame.append method is deprecated and will be removed from pandas in a future version. Use pandas.concat instead.\n",
      "  self.metafeatures = self.metafeatures.append(metafeatures)\n",
      "/usr/local/lib/python3.8/dist-packages/autosklearn/metalearning/metalearning/meta_base.py:72: FutureWarning: The frame.append method is deprecated and will be removed from pandas in a future version. Use pandas.concat instead.\n",
      "  self.algorithm_runs[metric].append(runs)\n"
     ]
    },
    {
     "name": "stdout",
     "output_type": "stream",
     "text": [
      "Finished - saved to './models/Smoke/autosklearn/autosklearn_Smoke_max-models_16.pkl'\n",
      "-> Fitting - Max Models on Disc: 32\n"
     ]
    },
    {
     "name": "stderr",
     "output_type": "stream",
     "text": [
      "/usr/local/lib/python3.8/dist-packages/distributed/node.py:177: UserWarning: Port 8787 is already in use.\n",
      "Perhaps you already have a cluster running?\n",
      "Hosting the HTTP server on port 37253 instead\n",
      "  warnings.warn(\n",
      "/usr/local/lib/python3.8/dist-packages/autosklearn/metalearning/metalearning/meta_base.py:68: FutureWarning: The frame.append method is deprecated and will be removed from pandas in a future version. Use pandas.concat instead.\n",
      "  self.metafeatures = self.metafeatures.append(metafeatures)\n",
      "/usr/local/lib/python3.8/dist-packages/autosklearn/metalearning/metalearning/meta_base.py:72: FutureWarning: The frame.append method is deprecated and will be removed from pandas in a future version. Use pandas.concat instead.\n",
      "  self.algorithm_runs[metric].append(runs)\n"
     ]
    },
    {
     "name": "stdout",
     "output_type": "stream",
     "text": [
      "Finished - saved to './models/Smoke/autosklearn/autosklearn_Smoke_max-models_32.pkl'\n",
      "-> Fitting - Max Models on Disc: 64\n"
     ]
    },
    {
     "name": "stderr",
     "output_type": "stream",
     "text": [
      "/usr/local/lib/python3.8/dist-packages/distributed/node.py:177: UserWarning: Port 8787 is already in use.\n",
      "Perhaps you already have a cluster running?\n",
      "Hosting the HTTP server on port 43797 instead\n",
      "  warnings.warn(\n",
      "/usr/local/lib/python3.8/dist-packages/autosklearn/metalearning/metalearning/meta_base.py:68: FutureWarning: The frame.append method is deprecated and will be removed from pandas in a future version. Use pandas.concat instead.\n",
      "  self.metafeatures = self.metafeatures.append(metafeatures)\n",
      "/usr/local/lib/python3.8/dist-packages/autosklearn/metalearning/metalearning/meta_base.py:72: FutureWarning: The frame.append method is deprecated and will be removed from pandas in a future version. Use pandas.concat instead.\n",
      "  self.algorithm_runs[metric].append(runs)\n"
     ]
    },
    {
     "name": "stdout",
     "output_type": "stream",
     "text": [
      "Finished - saved to './models/Smoke/autosklearn/autosklearn_Smoke_max-models_64.pkl'\n",
      "-> Fitting - Ensemble Sizes: 1\n"
     ]
    },
    {
     "name": "stderr",
     "output_type": "stream",
     "text": [
      "/usr/local/lib/python3.8/dist-packages/distributed/node.py:177: UserWarning: Port 8787 is already in use.\n",
      "Perhaps you already have a cluster running?\n",
      "Hosting the HTTP server on port 34205 instead\n",
      "  warnings.warn(\n",
      "/usr/local/lib/python3.8/dist-packages/autosklearn/metalearning/metalearning/meta_base.py:68: FutureWarning: The frame.append method is deprecated and will be removed from pandas in a future version. Use pandas.concat instead.\n",
      "  self.metafeatures = self.metafeatures.append(metafeatures)\n",
      "/usr/local/lib/python3.8/dist-packages/autosklearn/metalearning/metalearning/meta_base.py:72: FutureWarning: The frame.append method is deprecated and will be removed from pandas in a future version. Use pandas.concat instead.\n",
      "  self.algorithm_runs[metric].append(runs)\n"
     ]
    },
    {
     "name": "stdout",
     "output_type": "stream",
     "text": [
      "Finished - saved to './models/Smoke/autosklearn/autosklearn_Smoke_ensemble-size_1.pkl'\n",
      "-> Fitting - Ensemble Sizes: 2\n"
     ]
    },
    {
     "name": "stderr",
     "output_type": "stream",
     "text": [
      "/usr/local/lib/python3.8/dist-packages/distributed/node.py:177: UserWarning: Port 8787 is already in use.\n",
      "Perhaps you already have a cluster running?\n",
      "Hosting the HTTP server on port 42591 instead\n",
      "  warnings.warn(\n",
      "/usr/local/lib/python3.8/dist-packages/autosklearn/metalearning/metalearning/meta_base.py:68: FutureWarning: The frame.append method is deprecated and will be removed from pandas in a future version. Use pandas.concat instead.\n",
      "  self.metafeatures = self.metafeatures.append(metafeatures)\n",
      "/usr/local/lib/python3.8/dist-packages/autosklearn/metalearning/metalearning/meta_base.py:72: FutureWarning: The frame.append method is deprecated and will be removed from pandas in a future version. Use pandas.concat instead.\n",
      "  self.algorithm_runs[metric].append(runs)\n"
     ]
    },
    {
     "name": "stdout",
     "output_type": "stream",
     "text": [
      "Finished - saved to './models/Smoke/autosklearn/autosklearn_Smoke_ensemble-size_2.pkl'\n",
      "-> Fitting - Ensemble Sizes: 3\n"
     ]
    },
    {
     "name": "stderr",
     "output_type": "stream",
     "text": [
      "/usr/local/lib/python3.8/dist-packages/distributed/node.py:177: UserWarning: Port 8787 is already in use.\n",
      "Perhaps you already have a cluster running?\n",
      "Hosting the HTTP server on port 34389 instead\n",
      "  warnings.warn(\n",
      "/usr/local/lib/python3.8/dist-packages/autosklearn/metalearning/metalearning/meta_base.py:68: FutureWarning: The frame.append method is deprecated and will be removed from pandas in a future version. Use pandas.concat instead.\n",
      "  self.metafeatures = self.metafeatures.append(metafeatures)\n",
      "/usr/local/lib/python3.8/dist-packages/autosklearn/metalearning/metalearning/meta_base.py:72: FutureWarning: The frame.append method is deprecated and will be removed from pandas in a future version. Use pandas.concat instead.\n",
      "  self.algorithm_runs[metric].append(runs)\n"
     ]
    },
    {
     "name": "stdout",
     "output_type": "stream",
     "text": [
      "Finished - saved to './models/Smoke/autosklearn/autosklearn_Smoke_ensemble-size_3.pkl'\n",
      "-> Fitting - Ensemble Sizes: 4\n"
     ]
    },
    {
     "name": "stderr",
     "output_type": "stream",
     "text": [
      "/usr/local/lib/python3.8/dist-packages/distributed/node.py:177: UserWarning: Port 8787 is already in use.\n",
      "Perhaps you already have a cluster running?\n",
      "Hosting the HTTP server on port 36745 instead\n",
      "  warnings.warn(\n",
      "/usr/local/lib/python3.8/dist-packages/autosklearn/metalearning/metalearning/meta_base.py:68: FutureWarning: The frame.append method is deprecated and will be removed from pandas in a future version. Use pandas.concat instead.\n",
      "  self.metafeatures = self.metafeatures.append(metafeatures)\n",
      "/usr/local/lib/python3.8/dist-packages/autosklearn/metalearning/metalearning/meta_base.py:72: FutureWarning: The frame.append method is deprecated and will be removed from pandas in a future version. Use pandas.concat instead.\n",
      "  self.algorithm_runs[metric].append(runs)\n"
     ]
    },
    {
     "name": "stdout",
     "output_type": "stream",
     "text": [
      "Finished - saved to './models/Smoke/autosklearn/autosklearn_Smoke_ensemble-size_4.pkl'\n",
      "-> Fitting - Ensemble Sizes: 8\n"
     ]
    },
    {
     "name": "stderr",
     "output_type": "stream",
     "text": [
      "2022-09-17 15:20:25,509 - tornado.application - ERROR - Exception in callback functools.partial(<bound method IOLoop._discard_future_result of <zmq.eventloop.ioloop.ZMQIOLoop object at 0x40c5870e80>>, <Task finished name='Task-3455' coro=<InProcListener._handle_stream() done, defined at /usr/local/lib/python3.8/dist-packages/distributed/comm/inproc.py:255> exception=FileNotFoundError(2, 'No such file or directory')>)\n",
      "Traceback (most recent call last):\n",
      "  File \"/usr/local/lib/python3.8/dist-packages/tornado/ioloop.py\", line 741, in _run_callback\n",
      "    ret = callback()\n",
      "  File \"/usr/local/lib/python3.8/dist-packages/tornado/ioloop.py\", line 765, in _discard_future_result\n",
      "    future.result()\n",
      "  File \"/usr/local/lib/python3.8/dist-packages/distributed/comm/inproc.py\", line 261, in _handle_stream\n",
      "    await self.comm_handler(comm)\n",
      "  File \"/usr/local/lib/python3.8/dist-packages/distributed/core.py\", line 550, in handle_comm\n",
      "    logger.debug(\"Calling into handler %s\", handler.__name__)\n",
      "  File \"/usr/lib/python3.8/logging/__init__.py\", line 1434, in debug\n",
      "    self._log(DEBUG, msg, args, **kwargs)\n",
      "  File \"/usr/lib/python3.8/logging/__init__.py\", line 1589, in _log\n",
      "    self.handle(record)\n",
      "  File \"/usr/lib/python3.8/logging/__init__.py\", line 1599, in handle\n",
      "    self.callHandlers(record)\n",
      "  File \"/usr/lib/python3.8/logging/__init__.py\", line 1661, in callHandlers\n",
      "    hdlr.handle(record)\n",
      "  File \"/usr/lib/python3.8/logging/__init__.py\", line 954, in handle\n",
      "    self.emit(record)\n",
      "  File \"/usr/lib/python3.8/logging/__init__.py\", line 1186, in emit\n",
      "    self.stream = self._open()\n",
      "  File \"/usr/lib/python3.8/logging/__init__.py\", line 1176, in _open\n",
      "    return open(self.baseFilename, self.mode, encoding=self.encoding)\n",
      "FileNotFoundError: [Errno 2] No such file or directory: '/tmp/auto-sklearn_tmp_667d2ecf-3682-11ed-aec8-0242ac110002/distributed.log'\n",
      "/usr/local/lib/python3.8/dist-packages/distributed/node.py:177: UserWarning: Port 8787 is already in use.\n",
      "Perhaps you already have a cluster running?\n",
      "Hosting the HTTP server on port 40011 instead\n",
      "  warnings.warn(\n",
      "/usr/local/lib/python3.8/dist-packages/autosklearn/metalearning/metalearning/meta_base.py:68: FutureWarning: The frame.append method is deprecated and will be removed from pandas in a future version. Use pandas.concat instead.\n",
      "  self.metafeatures = self.metafeatures.append(metafeatures)\n",
      "/usr/local/lib/python3.8/dist-packages/autosklearn/metalearning/metalearning/meta_base.py:72: FutureWarning: The frame.append method is deprecated and will be removed from pandas in a future version. Use pandas.concat instead.\n",
      "  self.algorithm_runs[metric].append(runs)\n"
     ]
    },
    {
     "name": "stdout",
     "output_type": "stream",
     "text": [
      "Finished - saved to './models/Smoke/autosklearn/autosklearn_Smoke_ensemble-size_8.pkl'\n",
      "-> Fitting - Ensemble Sizes: 16\n"
     ]
    },
    {
     "name": "stderr",
     "output_type": "stream",
     "text": [
      "/usr/local/lib/python3.8/dist-packages/distributed/node.py:177: UserWarning: Port 8787 is already in use.\n",
      "Perhaps you already have a cluster running?\n",
      "Hosting the HTTP server on port 42277 instead\n",
      "  warnings.warn(\n",
      "/usr/local/lib/python3.8/dist-packages/autosklearn/metalearning/metalearning/meta_base.py:68: FutureWarning: The frame.append method is deprecated and will be removed from pandas in a future version. Use pandas.concat instead.\n",
      "  self.metafeatures = self.metafeatures.append(metafeatures)\n",
      "/usr/local/lib/python3.8/dist-packages/autosklearn/metalearning/metalearning/meta_base.py:72: FutureWarning: The frame.append method is deprecated and will be removed from pandas in a future version. Use pandas.concat instead.\n",
      "  self.algorithm_runs[metric].append(runs)\n"
     ]
    },
    {
     "name": "stdout",
     "output_type": "stream",
     "text": [
      "Finished - saved to './models/Smoke/autosklearn/autosklearn_Smoke_ensemble-size_16.pkl'\n",
      "-> Fitting - Resampling Strategy: holdout\n"
     ]
    },
    {
     "name": "stderr",
     "output_type": "stream",
     "text": [
      "2022-09-17 16:03:15,973 - tornado.application - ERROR - Exception in callback functools.partial(<bound method IOLoop._discard_future_result of <zmq.eventloop.ioloop.ZMQIOLoop object at 0x40c5870e80>>, <Task finished name='Task-1624206' coro=<Worker.heartbeat() done, defined at /usr/local/lib/python3.8/dist-packages/distributed/worker.py:1129> exception=FileNotFoundError(2, 'No such file or directory')>)\n",
      "Traceback (most recent call last):\n",
      "  File \"/usr/local/lib/python3.8/dist-packages/tornado/ioloop.py\", line 741, in _run_callback\n",
      "    ret = callback()\n",
      "  File \"/usr/local/lib/python3.8/dist-packages/tornado/ioloop.py\", line 765, in _discard_future_result\n",
      "    future.result()\n",
      "  File \"/usr/local/lib/python3.8/dist-packages/distributed/worker.py\", line 1134, in heartbeat\n",
      "    logger.debug(\"Heartbeat: %s\", self.address)\n",
      "  File \"/usr/lib/python3.8/logging/__init__.py\", line 1434, in debug\n",
      "    self._log(DEBUG, msg, args, **kwargs)\n",
      "  File \"/usr/lib/python3.8/logging/__init__.py\", line 1589, in _log\n",
      "    self.handle(record)\n",
      "  File \"/usr/lib/python3.8/logging/__init__.py\", line 1599, in handle\n",
      "    self.callHandlers(record)\n",
      "  File \"/usr/lib/python3.8/logging/__init__.py\", line 1661, in callHandlers\n",
      "    hdlr.handle(record)\n",
      "  File \"/usr/lib/python3.8/logging/__init__.py\", line 954, in handle\n",
      "    self.emit(record)\n",
      "  File \"/usr/lib/python3.8/logging/__init__.py\", line 1186, in emit\n",
      "    self.stream = self._open()\n",
      "  File \"/usr/lib/python3.8/logging/__init__.py\", line 1176, in _open\n",
      "    return open(self.baseFilename, self.mode, encoding=self.encoding)\n",
      "FileNotFoundError: [Errno 2] No such file or directory: '/tmp/auto-sklearn_tmp_ad8c5218-3688-11ed-aec8-0242ac110002/distributed.log'\n",
      "/usr/local/lib/python3.8/dist-packages/distributed/node.py:177: UserWarning: Port 8787 is already in use.\n",
      "Perhaps you already have a cluster running?\n",
      "Hosting the HTTP server on port 43489 instead\n",
      "  warnings.warn(\n",
      "/usr/local/lib/python3.8/dist-packages/autosklearn/metalearning/metalearning/meta_base.py:68: FutureWarning: The frame.append method is deprecated and will be removed from pandas in a future version. Use pandas.concat instead.\n",
      "  self.metafeatures = self.metafeatures.append(metafeatures)\n",
      "/usr/local/lib/python3.8/dist-packages/autosklearn/metalearning/metalearning/meta_base.py:72: FutureWarning: The frame.append method is deprecated and will be removed from pandas in a future version. Use pandas.concat instead.\n",
      "  self.algorithm_runs[metric].append(runs)\n"
     ]
    },
    {
     "name": "stdout",
     "output_type": "stream",
     "text": [
      "Finished - saved to './models/Smoke/autosklearn/autosklearn_Smoke_resamp-strategy_holdout.pkl'\n",
      "-> Fitting - Resampling Strategy: holdout-iterative-fit\n"
     ]
    },
    {
     "name": "stderr",
     "output_type": "stream",
     "text": [
      "/usr/local/lib/python3.8/dist-packages/distributed/node.py:177: UserWarning: Port 8787 is already in use.\n",
      "Perhaps you already have a cluster running?\n",
      "Hosting the HTTP server on port 32821 instead\n",
      "  warnings.warn(\n",
      "/usr/local/lib/python3.8/dist-packages/autosklearn/metalearning/metalearning/meta_base.py:68: FutureWarning: The frame.append method is deprecated and will be removed from pandas in a future version. Use pandas.concat instead.\n",
      "  self.metafeatures = self.metafeatures.append(metafeatures)\n",
      "/usr/local/lib/python3.8/dist-packages/autosklearn/metalearning/metalearning/meta_base.py:72: FutureWarning: The frame.append method is deprecated and will be removed from pandas in a future version. Use pandas.concat instead.\n",
      "  self.algorithm_runs[metric].append(runs)\n"
     ]
    },
    {
     "name": "stdout",
     "output_type": "stream",
     "text": [
      "Finished - saved to './models/Smoke/autosklearn/autosklearn_Smoke_resamp-strategy_holdout-iterative-fit.pkl'\n",
      "-> Fitting - Resampling Strategy: cv\n"
     ]
    },
    {
     "name": "stderr",
     "output_type": "stream",
     "text": [
      "/usr/local/lib/python3.8/dist-packages/distributed/node.py:177: UserWarning: Port 8787 is already in use.\n",
      "Perhaps you already have a cluster running?\n",
      "Hosting the HTTP server on port 35475 instead\n",
      "  warnings.warn(\n",
      "/usr/local/lib/python3.8/dist-packages/autosklearn/metalearning/metalearning/meta_base.py:68: FutureWarning: The frame.append method is deprecated and will be removed from pandas in a future version. Use pandas.concat instead.\n",
      "  self.metafeatures = self.metafeatures.append(metafeatures)\n",
      "/usr/local/lib/python3.8/dist-packages/autosklearn/metalearning/metalearning/meta_base.py:72: FutureWarning: The frame.append method is deprecated and will be removed from pandas in a future version. Use pandas.concat instead.\n",
      "  self.algorithm_runs[metric].append(runs)\n"
     ]
    },
    {
     "name": "stdout",
     "output_type": "stream",
     "text": [
      "Finished - saved to './models/Smoke/autosklearn/autosklearn_Smoke_resamp-strategy_cv.pkl'\n",
      "-> Fitting - Resampling Strategy: cv-iterative-fit\n"
     ]
    },
    {
     "name": "stderr",
     "output_type": "stream",
     "text": [
      "/usr/local/lib/python3.8/dist-packages/distributed/node.py:177: UserWarning: Port 8787 is already in use.\n",
      "Perhaps you already have a cluster running?\n",
      "Hosting the HTTP server on port 33639 instead\n",
      "  warnings.warn(\n",
      "/usr/local/lib/python3.8/dist-packages/autosklearn/metalearning/metalearning/meta_base.py:68: FutureWarning: The frame.append method is deprecated and will be removed from pandas in a future version. Use pandas.concat instead.\n",
      "  self.metafeatures = self.metafeatures.append(metafeatures)\n",
      "/usr/local/lib/python3.8/dist-packages/autosklearn/metalearning/metalearning/meta_base.py:72: FutureWarning: The frame.append method is deprecated and will be removed from pandas in a future version. Use pandas.concat instead.\n",
      "  self.algorithm_runs[metric].append(runs)\n"
     ]
    },
    {
     "name": "stdout",
     "output_type": "stream",
     "text": [
      "Finished - saved to './models/Smoke/autosklearn/autosklearn_Smoke_resamp-strategy_cv-iterative-fit.pkl'\n",
      "-> Fitting - Resampling Strategy: cv-iterative-fit\n"
     ]
    },
    {
     "name": "stderr",
     "output_type": "stream",
     "text": [
      "/usr/local/lib/python3.8/dist-packages/distributed/node.py:177: UserWarning: Port 8787 is already in use.\n",
      "Perhaps you already have a cluster running?\n",
      "Hosting the HTTP server on port 41819 instead\n",
      "  warnings.warn(\n",
      "/usr/local/lib/python3.8/dist-packages/autosklearn/metalearning/metalearning/meta_base.py:68: FutureWarning: The frame.append method is deprecated and will be removed from pandas in a future version. Use pandas.concat instead.\n",
      "  self.metafeatures = self.metafeatures.append(metafeatures)\n",
      "/usr/local/lib/python3.8/dist-packages/autosklearn/metalearning/metalearning/meta_base.py:72: FutureWarning: The frame.append method is deprecated and will be removed from pandas in a future version. Use pandas.concat instead.\n",
      "  self.algorithm_runs[metric].append(runs)\n"
     ]
    },
    {
     "name": "stdout",
     "output_type": "stream",
     "text": [
      "Finished - saved to './models/Smoke/autosklearn/autosklearn_Smoke_resamp-strategy_cv-iterative-fit.pkl'\n",
      "CPU times: user 3h 20min 10s, sys: 16min 37s, total: 3h 36min 48s\n",
      "Wall time: 3h 6min 28s\n"
     ]
    }
   ],
   "source": [
    "%%time\n",
    "# initial_configurations_via_metalearning = [0, 2, 4, 8, 16, 32]\n",
    "initial_configurations_via_metalearning = [4, 8, 16, 32]\n",
    "\n",
    "resampling_strategies = ['holdout', 'holdout-iterative-fit', 'cv', 'cv-iterative-fit']\n",
    "max_models_on_disc = [1, 2, 4, 8, 16, 32, 64]\n",
    "ensemble_sizes = [1, 2, 3, 4, 8, 16]\n",
    "\n",
    "multi.build_and_fit_classifier(dataset_name=\"Smoke\",\n",
    "                               initial_configurations_via_metalearning=initial_configurations_via_metalearning,\n",
    "                               resampling_strategies=resampling_strategies,\n",
    "                               max_models_on_disc=max_models_on_disc,\n",
    "                               ensemble_sizes=ensemble_sizes)"
   ]
  },
  {
   "cell_type": "markdown",
   "id": "ccda2eb0",
   "metadata": {},
   "source": [
    "## Visualize "
   ]
  },
  {
   "cell_type": "code",
   "execution_count": 17,
   "id": "570c4109",
   "metadata": {},
   "outputs": [
    {
     "data": {
      "text/html": [
       "<div>\n",
       "<style scoped>\n",
       "    .dataframe tbody tr th:only-of-type {\n",
       "        vertical-align: middle;\n",
       "    }\n",
       "\n",
       "    .dataframe tbody tr th {\n",
       "        vertical-align: top;\n",
       "    }\n",
       "\n",
       "    .dataframe thead th {\n",
       "        text-align: right;\n",
       "    }\n",
       "</style>\n",
       "<table border=\"1\" class=\"dataframe\">\n",
       "  <thead>\n",
       "    <tr style=\"text-align: right;\">\n",
       "      <th></th>\n",
       "      <th>Feature</th>\n",
       "      <th>Value</th>\n",
       "      <th>Elapsed_Time</th>\n",
       "      <th>Train_Score</th>\n",
       "      <th>Test_Score</th>\n",
       "    </tr>\n",
       "  </thead>\n",
       "  <tbody>\n",
       "    <tr>\n",
       "      <th>0</th>\n",
       "      <td>Initial_Confs</td>\n",
       "      <td>0</td>\n",
       "      <td>199.611719</td>\n",
       "      <td>0.994399</td>\n",
       "      <td>0.993953</td>\n",
       "    </tr>\n",
       "    <tr>\n",
       "      <th>1</th>\n",
       "      <td>Initial_Confs</td>\n",
       "      <td>2</td>\n",
       "      <td>587.549532</td>\n",
       "      <td>0.999881</td>\n",
       "      <td>0.999758</td>\n",
       "    </tr>\n",
       "    <tr>\n",
       "      <th>2</th>\n",
       "      <td>Initial_Confs</td>\n",
       "      <td>4</td>\n",
       "      <td>188.022132</td>\n",
       "      <td>1.000000</td>\n",
       "      <td>1.000000</td>\n",
       "    </tr>\n",
       "    <tr>\n",
       "      <th>3</th>\n",
       "      <td>Initial_Confs</td>\n",
       "      <td>8</td>\n",
       "      <td>261.998600</td>\n",
       "      <td>1.000000</td>\n",
       "      <td>1.000000</td>\n",
       "    </tr>\n",
       "    <tr>\n",
       "      <th>4</th>\n",
       "      <td>Initial_Confs</td>\n",
       "      <td>16</td>\n",
       "      <td>229.296666</td>\n",
       "      <td>1.000000</td>\n",
       "      <td>1.000000</td>\n",
       "    </tr>\n",
       "    <tr>\n",
       "      <th>5</th>\n",
       "      <td>Initial_Confs</td>\n",
       "      <td>32</td>\n",
       "      <td>575.438571</td>\n",
       "      <td>1.000000</td>\n",
       "      <td>1.000000</td>\n",
       "    </tr>\n",
       "    <tr>\n",
       "      <th>6</th>\n",
       "      <td>Max_Models</td>\n",
       "      <td>1</td>\n",
       "      <td>175.899320</td>\n",
       "      <td>1.000000</td>\n",
       "      <td>1.000000</td>\n",
       "    </tr>\n",
       "    <tr>\n",
       "      <th>7</th>\n",
       "      <td>Max_Models</td>\n",
       "      <td>2</td>\n",
       "      <td>176.881772</td>\n",
       "      <td>1.000000</td>\n",
       "      <td>1.000000</td>\n",
       "    </tr>\n",
       "    <tr>\n",
       "      <th>8</th>\n",
       "      <td>Max_Models</td>\n",
       "      <td>4</td>\n",
       "      <td>177.147223</td>\n",
       "      <td>1.000000</td>\n",
       "      <td>1.000000</td>\n",
       "    </tr>\n",
       "    <tr>\n",
       "      <th>9</th>\n",
       "      <td>Max_Models</td>\n",
       "      <td>8</td>\n",
       "      <td>177.441443</td>\n",
       "      <td>1.000000</td>\n",
       "      <td>1.000000</td>\n",
       "    </tr>\n",
       "    <tr>\n",
       "      <th>10</th>\n",
       "      <td>Max_Models</td>\n",
       "      <td>16</td>\n",
       "      <td>175.472011</td>\n",
       "      <td>1.000000</td>\n",
       "      <td>1.000000</td>\n",
       "    </tr>\n",
       "    <tr>\n",
       "      <th>11</th>\n",
       "      <td>Max_Models</td>\n",
       "      <td>32</td>\n",
       "      <td>176.050066</td>\n",
       "      <td>1.000000</td>\n",
       "      <td>1.000000</td>\n",
       "    </tr>\n",
       "    <tr>\n",
       "      <th>12</th>\n",
       "      <td>Max_Models</td>\n",
       "      <td>64</td>\n",
       "      <td>181.241126</td>\n",
       "      <td>1.000000</td>\n",
       "      <td>1.000000</td>\n",
       "    </tr>\n",
       "    <tr>\n",
       "      <th>13</th>\n",
       "      <td>Ensemble_Size</td>\n",
       "      <td>1</td>\n",
       "      <td>176.582124</td>\n",
       "      <td>1.000000</td>\n",
       "      <td>1.000000</td>\n",
       "    </tr>\n",
       "    <tr>\n",
       "      <th>14</th>\n",
       "      <td>Ensemble_Size</td>\n",
       "      <td>2</td>\n",
       "      <td>175.307345</td>\n",
       "      <td>1.000000</td>\n",
       "      <td>1.000000</td>\n",
       "    </tr>\n",
       "    <tr>\n",
       "      <th>15</th>\n",
       "      <td>Ensemble_Size</td>\n",
       "      <td>3</td>\n",
       "      <td>175.500066</td>\n",
       "      <td>1.000000</td>\n",
       "      <td>1.000000</td>\n",
       "    </tr>\n",
       "    <tr>\n",
       "      <th>16</th>\n",
       "      <td>Ensemble_Size</td>\n",
       "      <td>4</td>\n",
       "      <td>175.706621</td>\n",
       "      <td>1.000000</td>\n",
       "      <td>1.000000</td>\n",
       "    </tr>\n",
       "    <tr>\n",
       "      <th>17</th>\n",
       "      <td>Ensemble_Size</td>\n",
       "      <td>8</td>\n",
       "      <td>2042.359017</td>\n",
       "      <td>1.000000</td>\n",
       "      <td>1.000000</td>\n",
       "    </tr>\n",
       "    <tr>\n",
       "      <th>18</th>\n",
       "      <td>Ensemble_Size</td>\n",
       "      <td>16</td>\n",
       "      <td>178.230173</td>\n",
       "      <td>0.288370</td>\n",
       "      <td>0.288341</td>\n",
       "    </tr>\n",
       "    <tr>\n",
       "      <th>19</th>\n",
       "      <td>Resampling_Strategy</td>\n",
       "      <td>holdout</td>\n",
       "      <td>190.368760</td>\n",
       "      <td>1.000000</td>\n",
       "      <td>1.000000</td>\n",
       "    </tr>\n",
       "    <tr>\n",
       "      <th>20</th>\n",
       "      <td>Resampling_Strategy</td>\n",
       "      <td>holdout-iterative-fit</td>\n",
       "      <td>218.850911</td>\n",
       "      <td>1.000000</td>\n",
       "      <td>1.000000</td>\n",
       "    </tr>\n",
       "    <tr>\n",
       "      <th>21</th>\n",
       "      <td>Resampling_Strategy</td>\n",
       "      <td>cv</td>\n",
       "      <td>176.199851</td>\n",
       "      <td>0.288370</td>\n",
       "      <td>0.288341</td>\n",
       "    </tr>\n",
       "    <tr>\n",
       "      <th>22</th>\n",
       "      <td>Resampling_Strategy</td>\n",
       "      <td>cv-iterative-fit</td>\n",
       "      <td>182.219447</td>\n",
       "      <td>1.000000</td>\n",
       "      <td>1.000000</td>\n",
       "    </tr>\n",
       "  </tbody>\n",
       "</table>\n",
       "</div>"
      ],
      "text/plain": [
       "                Feature                  Value  Elapsed_Time  Train_Score  \\\n",
       "0         Initial_Confs                      0    199.611719     0.994399   \n",
       "1         Initial_Confs                      2    587.549532     0.999881   \n",
       "2         Initial_Confs                      4    188.022132     1.000000   \n",
       "3         Initial_Confs                      8    261.998600     1.000000   \n",
       "4         Initial_Confs                     16    229.296666     1.000000   \n",
       "5         Initial_Confs                     32    575.438571     1.000000   \n",
       "6            Max_Models                      1    175.899320     1.000000   \n",
       "7            Max_Models                      2    176.881772     1.000000   \n",
       "8            Max_Models                      4    177.147223     1.000000   \n",
       "9            Max_Models                      8    177.441443     1.000000   \n",
       "10           Max_Models                     16    175.472011     1.000000   \n",
       "11           Max_Models                     32    176.050066     1.000000   \n",
       "12           Max_Models                     64    181.241126     1.000000   \n",
       "13        Ensemble_Size                      1    176.582124     1.000000   \n",
       "14        Ensemble_Size                      2    175.307345     1.000000   \n",
       "15        Ensemble_Size                      3    175.500066     1.000000   \n",
       "16        Ensemble_Size                      4    175.706621     1.000000   \n",
       "17        Ensemble_Size                      8   2042.359017     1.000000   \n",
       "18        Ensemble_Size                     16    178.230173     0.288370   \n",
       "19  Resampling_Strategy                holdout    190.368760     1.000000   \n",
       "20  Resampling_Strategy  holdout-iterative-fit    218.850911     1.000000   \n",
       "21  Resampling_Strategy                     cv    176.199851     0.288370   \n",
       "22  Resampling_Strategy       cv-iterative-fit    182.219447     1.000000   \n",
       "\n",
       "    Test_Score  \n",
       "0     0.993953  \n",
       "1     0.999758  \n",
       "2     1.000000  \n",
       "3     1.000000  \n",
       "4     1.000000  \n",
       "5     1.000000  \n",
       "6     1.000000  \n",
       "7     1.000000  \n",
       "8     1.000000  \n",
       "9     1.000000  \n",
       "10    1.000000  \n",
       "11    1.000000  \n",
       "12    1.000000  \n",
       "13    1.000000  \n",
       "14    1.000000  \n",
       "15    1.000000  \n",
       "16    1.000000  \n",
       "17    1.000000  \n",
       "18    0.288341  \n",
       "19    1.000000  \n",
       "20    1.000000  \n",
       "21    0.288341  \n",
       "22    1.000000  "
      ]
     },
     "execution_count": 17,
     "metadata": {},
     "output_type": "execute_result"
    }
   ],
   "source": [
    "collected_data = pd.read_csv('./models/smoke/autosklearn/logs/old_log.csv', index_col=[0])\n",
    "collected_data"
   ]
  },
  {
   "cell_type": "code",
   "execution_count": 18,
   "id": "f2fb2510",
   "metadata": {},
   "outputs": [],
   "source": [
    "initial_confs_df = collected_data[collected_data['Feature'] == 'Initial_Confs']\n",
    "max_models_df = collected_data[collected_data['Feature'] == 'Max_Models']\n",
    "ensemble_size_df = collected_data[collected_data['Feature'] == 'Ensemble_Size']\n",
    "resamp_strategy_df = collected_data[collected_data['Feature'] == 'Resampling_Strategy']"
   ]
  },
  {
   "cell_type": "markdown",
   "id": "367baabd",
   "metadata": {},
   "source": [
    "### Initial Configurations Effects"
   ]
  },
  {
   "cell_type": "code",
   "execution_count": 19,
   "id": "f0a53cf0",
   "metadata": {},
   "outputs": [
    {
     "data": {
      "image/png": "[encoded data removed]",
      "text/plain": [
       "<Figure size 432x288 with 1 Axes>"
      ]
     },
     "metadata": {
      "needs_background": "light"
     },
     "output_type": "display_data"
    }
   ],
   "source": [
    "plt.plot(initial_confs_df['Value'], initial_confs_df['Elapsed_Time'], color='green', marker='o')\n",
    "plt.title('Time as a function of Initial Configurations', fontsize=18)\n",
    "plt.xlabel('Initial Configurations', fontsize=14)\n",
    "plt.ylabel('Elapsed Time (sec)', fontsize=14)\n",
    "plt.grid(True)\n",
    "plt.show()"
   ]
  },
  {
   "cell_type": "code",
   "execution_count": 20,
   "id": "a2f55dba",
   "metadata": {
    "scrolled": true
   },
   "outputs": [
    {
     "data": {
      "image/png": "[encoded data removed]",
      "text/plain": [
       "<Figure size 432x288 with 1 Axes>"
      ]
     },
     "metadata": {
      "needs_background": "light"
     },
     "output_type": "display_data"
    }
   ],
   "source": [
    "plt.plot(initial_confs_df['Value'], initial_confs_df['Train_Score'], color='blue', marker='o', label='Train')\n",
    "plt.plot(initial_confs_df['Value'], initial_confs_df['Test_Score'], color='red', marker='o', label='Test')\n",
    "plt.legend()\n",
    "\n",
    "plt.title('Accuracy as a function of Initial Configurations', fontsize=18)\n",
    "plt.xlabel('Initial Configurations', fontsize=14)\n",
    "plt.ylabel('Accuracy', fontsize=14)\n",
    "plt.grid(True)\n",
    "plt.show()"
   ]
  },
  {
   "cell_type": "markdown",
   "id": "2738e35e",
   "metadata": {},
   "source": [
    "### Max Models Effects"
   ]
  },
  {
   "cell_type": "code",
   "execution_count": 21,
   "id": "2f4494a3",
   "metadata": {
    "scrolled": false
   },
   "outputs": [
    {
     "data": {
      "image/png": "[encoded data removed]",
      "text/plain": [
       "<Figure size 432x288 with 1 Axes>"
      ]
     },
     "metadata": {
      "needs_background": "light"
     },
     "output_type": "display_data"
    }
   ],
   "source": [
    "plt.plot(max_models_df['Value'], max_models_df['Elapsed_Time'], color='green', marker='o')\n",
    "plt.title('Time as a function of Max Models', fontsize=18)\n",
    "plt.xlabel('Max Models', fontsize=14)\n",
    "plt.ylabel('Elapsed Time (sec)', fontsize=14)\n",
    "plt.grid(True)\n",
    "plt.show()"
   ]
  },
  {
   "cell_type": "code",
   "execution_count": 22,
   "id": "54ad7310",
   "metadata": {
    "scrolled": false
   },
   "outputs": [
    {
     "data": {
      "image/png": "[encoded data removed]",
      "text/plain": [
       "<Figure size 432x288 with 1 Axes>"
      ]
     },
     "metadata": {
      "needs_background": "light"
     },
     "output_type": "display_data"
    }
   ],
   "source": [
    "plt.plot(max_models_df['Value'], max_models_df['Train_Score'], color='blue', marker='o', label='Train')\n",
    "plt.plot(max_models_df['Value'], max_models_df['Test_Score'], color='red', marker='o', label='Test')\n",
    "plt.legend()\n",
    "\n",
    "plt.title('Accuracy as a function of Max Models', fontsize=18)\n",
    "plt.xlabel('Max Models', fontsize=14)\n",
    "plt.ylabel('Accuracy', fontsize=14)\n",
    "plt.grid(True)\n",
    "plt.show()"
   ]
  },
  {
   "cell_type": "markdown",
   "id": "17844e1d",
   "metadata": {},
   "source": [
    "### Ensemble Size Effects"
   ]
  },
  {
   "cell_type": "code",
   "execution_count": 23,
   "id": "e56cb0d3",
   "metadata": {},
   "outputs": [
    {
     "data": {
      "image/png": "[encoded data removed]",
      "text/plain": [
       "<Figure size 576x288 with 1 Axes>"
      ]
     },
     "metadata": {
      "needs_background": "light"
     },
     "output_type": "display_data"
    }
   ],
   "source": [
    "plt.figure(figsize=(8,4))\n",
    "\n",
    "plt.plot(ensemble_size_df['Value'], ensemble_size_df['Elapsed_Time'], color='green', marker='o')\n",
    "plt.title('Time as a function of Ensemble Size', fontsize=18)\n",
    "plt.xlabel('Ensemble Size', fontsize=14)\n",
    "plt.ylabel('Elapsed Time (sec)', fontsize=14)\n",
    "plt.grid(True)\n",
    "\n",
    "plt.show()"
   ]
  },
  {
   "cell_type": "code",
   "execution_count": 24,
   "id": "1ed7f325",
   "metadata": {
    "scrolled": false
   },
   "outputs": [
    {
     "data": {
      "image/png": "[encoded data removed]",
      "text/plain": [
       "<Figure size 576x288 with 1 Axes>"
      ]
     },
     "metadata": {
      "needs_background": "light"
     },
     "output_type": "display_data"
    }
   ],
   "source": [
    "plt.figure(figsize=(8,4))\n",
    "plt.plot(ensemble_size_df['Value'], ensemble_size_df['Train_Score'], color='blue', marker='o', label='Train')\n",
    "plt.plot(ensemble_size_df['Value'], ensemble_size_df['Test_Score'], color='red', marker='o', label='Test')\n",
    "plt.legend()\n",
    "\n",
    "plt.title('Accuracy as a function of Ensemble Size', fontsize=18)\n",
    "plt.xlabel('Ensemble Size', fontsize=14)\n",
    "plt.ylabel('Accuracy', fontsize=14)\n",
    "plt.grid(True)\n",
    "plt.show()"
   ]
  },
  {
   "cell_type": "markdown",
   "id": "0e750996",
   "metadata": {},
   "source": [
    "### Remsampling Strategy Effects"
   ]
  },
  {
   "cell_type": "code",
   "execution_count": 25,
   "id": "6a6ec258",
   "metadata": {},
   "outputs": [
    {
     "data": {
      "image/png": "[encoded data removed]",
      "text/plain": [
       "<Figure size 576x288 with 1 Axes>"
      ]
     },
     "metadata": {
      "needs_background": "light"
     },
     "output_type": "display_data"
    }
   ],
   "source": [
    "fig = plt.figure(figsize = (8, 4))\n",
    " \n",
    "# creating the bar plot\n",
    "plt.bar(resamp_strategy_df['Value'], resamp_strategy_df['Elapsed_Time'], color ='green')\n",
    "\n",
    "plt.xlabel(\"Resampling Strategy\")\n",
    "plt.ylabel(\"Elapsed Time (sec)\")\n",
    "plt.title(\"Time for each Resampling Strategy\")\n",
    "plt.show()"
   ]
  },
  {
   "cell_type": "code",
   "execution_count": 27,
   "id": "5c9a64ce",
   "metadata": {},
   "outputs": [
    {
     "data": {
      "image/png": "[encoded data removed]",
      "text/plain": [
       "<Figure size 1080x288 with 1 Axes>"
      ]
     },
     "metadata": {
      "needs_background": "light"
     },
     "output_type": "display_data"
    }
   ],
   "source": [
    "import numpy as np\n",
    "\n",
    "labels = resamp_strategy_df['Value']\n",
    "train_score = np.array(resamp_strategy_df['Train_Score']).round(3)\n",
    "test_score = np.array(resamp_strategy_df['Test_Score']).round(3)\n",
    "\n",
    "x = np.arange(len(labels))  # the label locations\n",
    "width = 0.2  # the width of the bars\n",
    "\n",
    "fig, ax = plt.subplots(figsize=(15,4))\n",
    "rects1 = ax.bar(x - width/2, train_score, width, label='Train')\n",
    "rects2 = ax.bar(x + width/2, test_score, width, label='Test')\n",
    "\n",
    "# Add some text for labels, title and custom x-axis tick labels, etc.\n",
    "ax.set_ylabel('Accuracy')\n",
    "ax.set_title('Accuracy for Train and Test sets')\n",
    "ax.set_xticks(x, labels)\n",
    "ax.legend(loc='lower right')\n",
    "\n",
    "ax.bar_label(rects1, padding=0)\n",
    "ax.bar_label(rects2, padding=0)\n",
    "\n",
    "plt.show()"
   ]
  },
  {
   "cell_type": "code",
   "execution_count": null,
   "id": "2626660a",
   "metadata": {},
   "outputs": [],
   "source": []
  },
  {
   "cell_type": "code",
   "execution_count": null,
   "id": "f7b0d147",
   "metadata": {},
   "outputs": [],
   "source": []
  }
 ],
 "metadata": {
  "kernelspec": {
   "display_name": "Python 3 (ipykernel)",
   "language": "python",
   "name": "python3"
  },
  "language_info": {
   "codemirror_mode": {
    "name": "ipython",
    "version": 3
   },
   "file_extension": ".py",
   "mimetype": "text/x-python",
   "name": "python",
   "nbconvert_exporter": "python",
   "pygments_lexer": "ipython3",
   "version": "3.8.10"
  }
 },
 "nbformat": 4,
 "nbformat_minor": 5
}
