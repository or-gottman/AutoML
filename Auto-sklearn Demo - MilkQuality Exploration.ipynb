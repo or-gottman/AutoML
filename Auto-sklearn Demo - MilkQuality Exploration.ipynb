{
 "cells": [
  {
   "cell_type": "markdown",
   "id": "9a557f26",
   "metadata": {},
   "source": [
    "## Auto-sklearn Demonstration (Classification)\n",
    "Milk Quality Classification\n",
    "https://www.kaggle.com/datasets/cpluzshrijayan/milkquality"
   ]
  },
  {
   "cell_type": "code",
   "execution_count": 1,
   "id": "79ebca09",
   "metadata": {
    "pycharm": {
     "name": "#%%\n"
    }
   },
   "outputs": [],
   "source": [
    "from pprint import pprint\n",
    "\n",
    "import sklearn.model_selection\n",
    "import sklearn.datasets\n",
    "import sklearn.metrics\n",
    "\n",
    "import pandas as pd\n",
    "\n",
    "# To install autosklearn: pip install pyrfr==0.6.1, then pip install auto-sklearn\n",
    "import autosklearn.classification\n",
    "from autosklearn.metrics import (accuracy, f1, roc_auc, precision,\n",
    "                                average_precision, recall, log_loss)\n",
    "\n",
    "from multi_train import MultiTrain\n",
    "import matplotlib.pyplot as plt\n",
    "# import autosklearn"
   ]
  },
  {
   "cell_type": "markdown",
   "id": "9e98671a",
   "metadata": {},
   "source": [
    "### Data Loading"
   ]
  },
  {
   "cell_type": "code",
   "execution_count": 2,
   "id": "9addcb7e",
   "metadata": {},
   "outputs": [],
   "source": [
    "multi = MultiTrain()"
   ]
  },
  {
   "cell_type": "code",
   "execution_count": 3,
   "id": "8a5ddefd",
   "metadata": {},
   "outputs": [],
   "source": [
    "multi.X_train = pd.read_csv('./data/milk/X_train.csv', index_col=[0])\n",
    "multi.y_train = pd.read_csv('./data/milk/y_train.csv', index_col=[0])\n",
    "multi.X_test = pd.read_csv('./data/milk/X_test.csv', index_col=[0])\n",
    "multi.y_test = pd.read_csv('./data/milk/y_test.csv', index_col=[0])"
   ]
  },
  {
   "cell_type": "code",
   "execution_count": 4,
   "id": "dba1ac23",
   "metadata": {
    "scrolled": true
   },
   "outputs": [
    {
     "name": "stdout",
     "output_type": "stream",
     "text": [
      "X_train: (847, 7) y_train: (847, 1)\n",
      "X_test: (212, 7) y_test: (212, 1)\n"
     ]
    },
    {
     "data": {
      "text/html": [
       "<div>\n",
       "<style scoped>\n",
       "    .dataframe tbody tr th:only-of-type {\n",
       "        vertical-align: middle;\n",
       "    }\n",
       "\n",
       "    .dataframe tbody tr th {\n",
       "        vertical-align: top;\n",
       "    }\n",
       "\n",
       "    .dataframe thead th {\n",
       "        text-align: right;\n",
       "    }\n",
       "</style>\n",
       "<table border=\"1\" class=\"dataframe\">\n",
       "  <thead>\n",
       "    <tr style=\"text-align: right;\">\n",
       "      <th></th>\n",
       "      <th>pH</th>\n",
       "      <th>Temprature</th>\n",
       "      <th>Taste</th>\n",
       "      <th>Odor</th>\n",
       "      <th>Fat</th>\n",
       "      <th>Turbidity</th>\n",
       "      <th>Colour</th>\n",
       "    </tr>\n",
       "  </thead>\n",
       "  <tbody>\n",
       "    <tr>\n",
       "      <th>331</th>\n",
       "      <td>6.8</td>\n",
       "      <td>40</td>\n",
       "      <td>1</td>\n",
       "      <td>0</td>\n",
       "      <td>1</td>\n",
       "      <td>0</td>\n",
       "      <td>245</td>\n",
       "    </tr>\n",
       "    <tr>\n",
       "      <th>44</th>\n",
       "      <td>6.6</td>\n",
       "      <td>45</td>\n",
       "      <td>0</td>\n",
       "      <td>0</td>\n",
       "      <td>0</td>\n",
       "      <td>1</td>\n",
       "      <td>250</td>\n",
       "    </tr>\n",
       "    <tr>\n",
       "      <th>307</th>\n",
       "      <td>6.8</td>\n",
       "      <td>45</td>\n",
       "      <td>1</td>\n",
       "      <td>1</td>\n",
       "      <td>1</td>\n",
       "      <td>0</td>\n",
       "      <td>245</td>\n",
       "    </tr>\n",
       "    <tr>\n",
       "      <th>323</th>\n",
       "      <td>9.0</td>\n",
       "      <td>43</td>\n",
       "      <td>1</td>\n",
       "      <td>0</td>\n",
       "      <td>1</td>\n",
       "      <td>1</td>\n",
       "      <td>250</td>\n",
       "    </tr>\n",
       "    <tr>\n",
       "      <th>1009</th>\n",
       "      <td>9.0</td>\n",
       "      <td>43</td>\n",
       "      <td>1</td>\n",
       "      <td>0</td>\n",
       "      <td>1</td>\n",
       "      <td>1</td>\n",
       "      <td>250</td>\n",
       "    </tr>\n",
       "  </tbody>\n",
       "</table>\n",
       "</div>"
      ],
      "text/plain": [
       "       pH  Temprature  Taste  Odor  Fat  Turbidity  Colour\n",
       "331   6.8          40      1     0    1          0     245\n",
       "44    6.6          45      0     0    0          1     250\n",
       "307   6.8          45      1     1    1          0     245\n",
       "323   9.0          43      1     0    1          1     250\n",
       "1009  9.0          43      1     0    1          1     250"
      ]
     },
     "execution_count": 4,
     "metadata": {},
     "output_type": "execute_result"
    }
   ],
   "source": [
    "print(\"X_train:\", multi.X_train.shape, \"y_train:\", multi.y_train.shape)\n",
    "print(\"X_test:\", multi.X_test.shape, \"y_test:\", multi.y_test.shape)\n",
    "multi.X_train.head()"
   ]
  },
  {
   "cell_type": "markdown",
   "id": "ac5d74bf",
   "metadata": {},
   "source": [
    "### Build and fit a classifier\n",
    "* **“n_jobs”** - number of cores in the system. (use -1 for as many cores as available).\n",
    "* **“time_left_for_this_task”** argument for the number of seconds for the process to run.\n",
    "<br>&emsp;&emsp;(\"less than 5-10 minutes is probably plenty for many small predictive modeling tasks (sub 1,000 rows).\")\n",
    "* **“per_run_time_limit”** - limit the time allocated to each model evaluation (in seconds).\n",
    "* **\"ensemble_size\"** - number of models to include in the ensemble.\n",
    "* **\"metric\"** - the metric which we want to optimize"
   ]
  },
  {
   "cell_type": "code",
   "execution_count": 5,
   "id": "5dfced33",
   "metadata": {},
   "outputs": [
    {
     "name": "stdout",
     "output_type": "stream",
     "text": [
      "-> Fitting - Initial Configurations: 0\n"
     ]
    },
    {
     "name": "stderr",
     "output_type": "stream",
     "text": [
      "/usr/local/lib/python3.8/dist-packages/distributed/node.py:177: UserWarning: Port 8787 is already in use.\n",
      "Perhaps you already have a cluster running?\n",
      "Hosting the HTTP server on port 40731 instead\n",
      "  warnings.warn(\n"
     ]
    },
    {
     "name": "stdout",
     "output_type": "stream",
     "text": [
      "Finished - saved to './models/Milk/autosklearn/autosklearn_Milk_initial-confs_0.pkl'\n",
      "-> Fitting - Initial Configurations: 2\n"
     ]
    },
    {
     "name": "stderr",
     "output_type": "stream",
     "text": [
      "/usr/local/lib/python3.8/dist-packages/distributed/node.py:177: UserWarning: Port 8787 is already in use.\n",
      "Perhaps you already have a cluster running?\n",
      "Hosting the HTTP server on port 39541 instead\n",
      "  warnings.warn(\n",
      "/usr/local/lib/python3.8/dist-packages/autosklearn/metalearning/metalearning/meta_base.py:68: FutureWarning: The frame.append method is deprecated and will be removed from pandas in a future version. Use pandas.concat instead.\n",
      "  self.metafeatures = self.metafeatures.append(metafeatures)\n",
      "/usr/local/lib/python3.8/dist-packages/autosklearn/metalearning/metalearning/meta_base.py:72: FutureWarning: The frame.append method is deprecated and will be removed from pandas in a future version. Use pandas.concat instead.\n",
      "  self.algorithm_runs[metric].append(runs)\n"
     ]
    },
    {
     "name": "stdout",
     "output_type": "stream",
     "text": [
      "Finished - saved to './models/Milk/autosklearn/autosklearn_Milk_initial-confs_2.pkl'\n",
      "-> Fitting - Initial Configurations: 4\n"
     ]
    },
    {
     "name": "stderr",
     "output_type": "stream",
     "text": [
      "/usr/local/lib/python3.8/dist-packages/distributed/node.py:177: UserWarning: Port 8787 is already in use.\n",
      "Perhaps you already have a cluster running?\n",
      "Hosting the HTTP server on port 33489 instead\n",
      "  warnings.warn(\n",
      "/usr/local/lib/python3.8/dist-packages/autosklearn/metalearning/metalearning/meta_base.py:68: FutureWarning: The frame.append method is deprecated and will be removed from pandas in a future version. Use pandas.concat instead.\n",
      "  self.metafeatures = self.metafeatures.append(metafeatures)\n",
      "/usr/local/lib/python3.8/dist-packages/autosklearn/metalearning/metalearning/meta_base.py:72: FutureWarning: The frame.append method is deprecated and will be removed from pandas in a future version. Use pandas.concat instead.\n",
      "  self.algorithm_runs[metric].append(runs)\n"
     ]
    },
    {
     "name": "stdout",
     "output_type": "stream",
     "text": [
      "Finished - saved to './models/Milk/autosklearn/autosklearn_Milk_initial-confs_4.pkl'\n",
      "-> Fitting - Initial Configurations: 8\n"
     ]
    },
    {
     "name": "stderr",
     "output_type": "stream",
     "text": [
      "/usr/local/lib/python3.8/dist-packages/distributed/node.py:177: UserWarning: Port 8787 is already in use.\n",
      "Perhaps you already have a cluster running?\n",
      "Hosting the HTTP server on port 46749 instead\n",
      "  warnings.warn(\n",
      "/usr/local/lib/python3.8/dist-packages/autosklearn/metalearning/metalearning/meta_base.py:68: FutureWarning: The frame.append method is deprecated and will be removed from pandas in a future version. Use pandas.concat instead.\n",
      "  self.metafeatures = self.metafeatures.append(metafeatures)\n",
      "/usr/local/lib/python3.8/dist-packages/autosklearn/metalearning/metalearning/meta_base.py:72: FutureWarning: The frame.append method is deprecated and will be removed from pandas in a future version. Use pandas.concat instead.\n",
      "  self.algorithm_runs[metric].append(runs)\n"
     ]
    },
    {
     "name": "stdout",
     "output_type": "stream",
     "text": [
      "Finished - saved to './models/Milk/autosklearn/autosklearn_Milk_initial-confs_8.pkl'\n",
      "-> Fitting - Initial Configurations: 16\n"
     ]
    },
    {
     "name": "stderr",
     "output_type": "stream",
     "text": [
      "/usr/local/lib/python3.8/dist-packages/autosklearn/metalearning/metalearning/meta_base.py:68: FutureWarning: The frame.append method is deprecated and will be removed from pandas in a future version. Use pandas.concat instead.\n",
      "  self.metafeatures = self.metafeatures.append(metafeatures)\n",
      "/usr/local/lib/python3.8/dist-packages/autosklearn/metalearning/metalearning/meta_base.py:72: FutureWarning: The frame.append method is deprecated and will be removed from pandas in a future version. Use pandas.concat instead.\n",
      "  self.algorithm_runs[metric].append(runs)\n"
     ]
    },
    {
     "name": "stdout",
     "output_type": "stream",
     "text": [
      "Finished - saved to './models/Milk/autosklearn/autosklearn_Milk_initial-confs_16.pkl'\n",
      "-> Fitting - Initial Configurations: 32\n"
     ]
    },
    {
     "name": "stderr",
     "output_type": "stream",
     "text": [
      "/usr/local/lib/python3.8/dist-packages/autosklearn/metalearning/metalearning/meta_base.py:68: FutureWarning: The frame.append method is deprecated and will be removed from pandas in a future version. Use pandas.concat instead.\n",
      "  self.metafeatures = self.metafeatures.append(metafeatures)\n",
      "/usr/local/lib/python3.8/dist-packages/autosklearn/metalearning/metalearning/meta_base.py:72: FutureWarning: The frame.append method is deprecated and will be removed from pandas in a future version. Use pandas.concat instead.\n",
      "  self.algorithm_runs[metric].append(runs)\n"
     ]
    },
    {
     "name": "stdout",
     "output_type": "stream",
     "text": [
      "Finished - saved to './models/Milk/autosklearn/autosklearn_Milk_initial-confs_32.pkl'\n",
      "-> Fitting - Max Models on Disc: 2\n"
     ]
    },
    {
     "name": "stderr",
     "output_type": "stream",
     "text": [
      "/usr/local/lib/python3.8/dist-packages/autosklearn/metalearning/metalearning/meta_base.py:68: FutureWarning: The frame.append method is deprecated and will be removed from pandas in a future version. Use pandas.concat instead.\n",
      "  self.metafeatures = self.metafeatures.append(metafeatures)\n",
      "/usr/local/lib/python3.8/dist-packages/autosklearn/metalearning/metalearning/meta_base.py:72: FutureWarning: The frame.append method is deprecated and will be removed from pandas in a future version. Use pandas.concat instead.\n",
      "  self.algorithm_runs[metric].append(runs)\n"
     ]
    },
    {
     "name": "stdout",
     "output_type": "stream",
     "text": [
      "Finished - saved to './models/Milk/autosklearn/autosklearn_Milk_max-models_2.pkl'\n",
      "-> Fitting - Max Models on Disc: 4\n"
     ]
    },
    {
     "name": "stderr",
     "output_type": "stream",
     "text": [
      "/usr/local/lib/python3.8/dist-packages/autosklearn/metalearning/metalearning/meta_base.py:68: FutureWarning: The frame.append method is deprecated and will be removed from pandas in a future version. Use pandas.concat instead.\n",
      "  self.metafeatures = self.metafeatures.append(metafeatures)\n",
      "/usr/local/lib/python3.8/dist-packages/autosklearn/metalearning/metalearning/meta_base.py:72: FutureWarning: The frame.append method is deprecated and will be removed from pandas in a future version. Use pandas.concat instead.\n",
      "  self.algorithm_runs[metric].append(runs)\n"
     ]
    },
    {
     "name": "stdout",
     "output_type": "stream",
     "text": [
      "Finished - saved to './models/Milk/autosklearn/autosklearn_Milk_max-models_4.pkl'\n",
      "-> Fitting - Max Models on Disc: 8\n"
     ]
    },
    {
     "name": "stderr",
     "output_type": "stream",
     "text": [
      "/usr/local/lib/python3.8/dist-packages/distributed/node.py:177: UserWarning: Port 8787 is already in use.\n",
      "Perhaps you already have a cluster running?\n",
      "Hosting the HTTP server on port 33139 instead\n",
      "  warnings.warn(\n",
      "/usr/local/lib/python3.8/dist-packages/autosklearn/metalearning/metalearning/meta_base.py:68: FutureWarning: The frame.append method is deprecated and will be removed from pandas in a future version. Use pandas.concat instead.\n",
      "  self.metafeatures = self.metafeatures.append(metafeatures)\n",
      "/usr/local/lib/python3.8/dist-packages/autosklearn/metalearning/metalearning/meta_base.py:72: FutureWarning: The frame.append method is deprecated and will be removed from pandas in a future version. Use pandas.concat instead.\n",
      "  self.algorithm_runs[metric].append(runs)\n"
     ]
    },
    {
     "name": "stdout",
     "output_type": "stream",
     "text": [
      "Finished - saved to './models/Milk/autosklearn/autosklearn_Milk_max-models_8.pkl'\n",
      "-> Fitting - Max Models on Disc: 16\n"
     ]
    },
    {
     "name": "stderr",
     "output_type": "stream",
     "text": [
      "/usr/local/lib/python3.8/dist-packages/autosklearn/metalearning/metalearning/meta_base.py:68: FutureWarning: The frame.append method is deprecated and will be removed from pandas in a future version. Use pandas.concat instead.\n",
      "  self.metafeatures = self.metafeatures.append(metafeatures)\n",
      "/usr/local/lib/python3.8/dist-packages/autosklearn/metalearning/metalearning/meta_base.py:72: FutureWarning: The frame.append method is deprecated and will be removed from pandas in a future version. Use pandas.concat instead.\n",
      "  self.algorithm_runs[metric].append(runs)\n"
     ]
    },
    {
     "name": "stdout",
     "output_type": "stream",
     "text": [
      "Finished - saved to './models/Milk/autosklearn/autosklearn_Milk_max-models_16.pkl'\n",
      "-> Fitting - Max Models on Disc: 32\n"
     ]
    },
    {
     "name": "stderr",
     "output_type": "stream",
     "text": [
      "/usr/local/lib/python3.8/dist-packages/autosklearn/metalearning/metalearning/meta_base.py:68: FutureWarning: The frame.append method is deprecated and will be removed from pandas in a future version. Use pandas.concat instead.\n",
      "  self.metafeatures = self.metafeatures.append(metafeatures)\n",
      "/usr/local/lib/python3.8/dist-packages/autosklearn/metalearning/metalearning/meta_base.py:72: FutureWarning: The frame.append method is deprecated and will be removed from pandas in a future version. Use pandas.concat instead.\n",
      "  self.algorithm_runs[metric].append(runs)\n"
     ]
    },
    {
     "name": "stdout",
     "output_type": "stream",
     "text": [
      "Finished - saved to './models/Milk/autosklearn/autosklearn_Milk_max-models_32.pkl'\n",
      "-> Fitting - Max Models on Disc: 64\n"
     ]
    },
    {
     "name": "stderr",
     "output_type": "stream",
     "text": [
      "/usr/local/lib/python3.8/dist-packages/distributed/node.py:177: UserWarning: Port 8787 is already in use.\n",
      "Perhaps you already have a cluster running?\n",
      "Hosting the HTTP server on port 40243 instead\n",
      "  warnings.warn(\n",
      "/usr/local/lib/python3.8/dist-packages/autosklearn/metalearning/metalearning/meta_base.py:68: FutureWarning: The frame.append method is deprecated and will be removed from pandas in a future version. Use pandas.concat instead.\n",
      "  self.metafeatures = self.metafeatures.append(metafeatures)\n",
      "/usr/local/lib/python3.8/dist-packages/autosklearn/metalearning/metalearning/meta_base.py:72: FutureWarning: The frame.append method is deprecated and will be removed from pandas in a future version. Use pandas.concat instead.\n",
      "  self.algorithm_runs[metric].append(runs)\n"
     ]
    },
    {
     "name": "stdout",
     "output_type": "stream",
     "text": [
      "Finished - saved to './models/Milk/autosklearn/autosklearn_Milk_max-models_64.pkl'\n",
      "-> Fitting - Ensemble Sizes: 1\n"
     ]
    },
    {
     "name": "stderr",
     "output_type": "stream",
     "text": [
      "/usr/local/lib/python3.8/dist-packages/autosklearn/metalearning/metalearning/meta_base.py:68: FutureWarning: The frame.append method is deprecated and will be removed from pandas in a future version. Use pandas.concat instead.\n",
      "  self.metafeatures = self.metafeatures.append(metafeatures)\n",
      "/usr/local/lib/python3.8/dist-packages/autosklearn/metalearning/metalearning/meta_base.py:72: FutureWarning: The frame.append method is deprecated and will be removed from pandas in a future version. Use pandas.concat instead.\n",
      "  self.algorithm_runs[metric].append(runs)\n"
     ]
    },
    {
     "name": "stdout",
     "output_type": "stream",
     "text": [
      "Finished - saved to './models/Milk/autosklearn/autosklearn_Milk_ensemble-size_1.pkl'\n",
      "-> Fitting - Ensemble Sizes: 2\n"
     ]
    },
    {
     "name": "stderr",
     "output_type": "stream",
     "text": [
      "/usr/local/lib/python3.8/dist-packages/autosklearn/metalearning/metalearning/meta_base.py:68: FutureWarning: The frame.append method is deprecated and will be removed from pandas in a future version. Use pandas.concat instead.\n",
      "  self.metafeatures = self.metafeatures.append(metafeatures)\n",
      "/usr/local/lib/python3.8/dist-packages/autosklearn/metalearning/metalearning/meta_base.py:72: FutureWarning: The frame.append method is deprecated and will be removed from pandas in a future version. Use pandas.concat instead.\n",
      "  self.algorithm_runs[metric].append(runs)\n"
     ]
    },
    {
     "name": "stdout",
     "output_type": "stream",
     "text": [
      "Finished - saved to './models/Milk/autosklearn/autosklearn_Milk_ensemble-size_2.pkl'\n",
      "-> Fitting - Ensemble Sizes: 3\n"
     ]
    },
    {
     "name": "stderr",
     "output_type": "stream",
     "text": [
      "/usr/local/lib/python3.8/dist-packages/autosklearn/metalearning/metalearning/meta_base.py:68: FutureWarning: The frame.append method is deprecated and will be removed from pandas in a future version. Use pandas.concat instead.\n",
      "  self.metafeatures = self.metafeatures.append(metafeatures)\n",
      "/usr/local/lib/python3.8/dist-packages/autosklearn/metalearning/metalearning/meta_base.py:72: FutureWarning: The frame.append method is deprecated and will be removed from pandas in a future version. Use pandas.concat instead.\n",
      "  self.algorithm_runs[metric].append(runs)\n"
     ]
    },
    {
     "name": "stdout",
     "output_type": "stream",
     "text": [
      "Finished - saved to './models/Milk/autosklearn/autosklearn_Milk_ensemble-size_3.pkl'\n",
      "-> Fitting - Ensemble Sizes: 4\n"
     ]
    },
    {
     "name": "stderr",
     "output_type": "stream",
     "text": [
      "/usr/local/lib/python3.8/dist-packages/autosklearn/metalearning/metalearning/meta_base.py:68: FutureWarning: The frame.append method is deprecated and will be removed from pandas in a future version. Use pandas.concat instead.\n",
      "  self.metafeatures = self.metafeatures.append(metafeatures)\n",
      "/usr/local/lib/python3.8/dist-packages/autosklearn/metalearning/metalearning/meta_base.py:72: FutureWarning: The frame.append method is deprecated and will be removed from pandas in a future version. Use pandas.concat instead.\n",
      "  self.algorithm_runs[metric].append(runs)\n"
     ]
    },
    {
     "name": "stdout",
     "output_type": "stream",
     "text": [
      "Finished - saved to './models/Milk/autosklearn/autosklearn_Milk_ensemble-size_4.pkl'\n",
      "-> Fitting - Ensemble Sizes: 8\n"
     ]
    },
    {
     "name": "stderr",
     "output_type": "stream",
     "text": [
      "/usr/local/lib/python3.8/dist-packages/distributed/node.py:177: UserWarning: Port 8787 is already in use.\n",
      "Perhaps you already have a cluster running?\n",
      "Hosting the HTTP server on port 44319 instead\n",
      "  warnings.warn(\n",
      "/usr/local/lib/python3.8/dist-packages/autosklearn/metalearning/metalearning/meta_base.py:68: FutureWarning: The frame.append method is deprecated and will be removed from pandas in a future version. Use pandas.concat instead.\n",
      "  self.metafeatures = self.metafeatures.append(metafeatures)\n",
      "/usr/local/lib/python3.8/dist-packages/autosklearn/metalearning/metalearning/meta_base.py:72: FutureWarning: The frame.append method is deprecated and will be removed from pandas in a future version. Use pandas.concat instead.\n",
      "  self.algorithm_runs[metric].append(runs)\n"
     ]
    },
    {
     "name": "stdout",
     "output_type": "stream",
     "text": [
      "Finished - saved to './models/Milk/autosklearn/autosklearn_Milk_ensemble-size_8.pkl'\n",
      "-> Fitting - Ensemble Sizes: 16\n"
     ]
    },
    {
     "name": "stderr",
     "output_type": "stream",
     "text": [
      "/usr/local/lib/python3.8/dist-packages/autosklearn/metalearning/metalearning/meta_base.py:68: FutureWarning: The frame.append method is deprecated and will be removed from pandas in a future version. Use pandas.concat instead.\n",
      "  self.metafeatures = self.metafeatures.append(metafeatures)\n",
      "/usr/local/lib/python3.8/dist-packages/autosklearn/metalearning/metalearning/meta_base.py:72: FutureWarning: The frame.append method is deprecated and will be removed from pandas in a future version. Use pandas.concat instead.\n",
      "  self.algorithm_runs[metric].append(runs)\n"
     ]
    },
    {
     "name": "stdout",
     "output_type": "stream",
     "text": [
      "Finished - saved to './models/Milk/autosklearn/autosklearn_Milk_ensemble-size_16.pkl'\n",
      "-> Fitting - Resampling Strategy: holdout\n"
     ]
    },
    {
     "name": "stderr",
     "output_type": "stream",
     "text": [
      "/usr/local/lib/python3.8/dist-packages/autosklearn/metalearning/metalearning/meta_base.py:68: FutureWarning: The frame.append method is deprecated and will be removed from pandas in a future version. Use pandas.concat instead.\n",
      "  self.metafeatures = self.metafeatures.append(metafeatures)\n",
      "/usr/local/lib/python3.8/dist-packages/autosklearn/metalearning/metalearning/meta_base.py:72: FutureWarning: The frame.append method is deprecated and will be removed from pandas in a future version. Use pandas.concat instead.\n",
      "  self.algorithm_runs[metric].append(runs)\n"
     ]
    },
    {
     "name": "stdout",
     "output_type": "stream",
     "text": [
      "Finished - saved to './models/Milk/autosklearn/autosklearn_Milk_resamp-strategy_holdout.pkl'\n",
      "-> Fitting - Resampling Strategy: holdout-iterative-fit\n"
     ]
    },
    {
     "name": "stderr",
     "output_type": "stream",
     "text": [
      "/usr/local/lib/python3.8/dist-packages/autosklearn/metalearning/metalearning/meta_base.py:68: FutureWarning: The frame.append method is deprecated and will be removed from pandas in a future version. Use pandas.concat instead.\n",
      "  self.metafeatures = self.metafeatures.append(metafeatures)\n",
      "/usr/local/lib/python3.8/dist-packages/autosklearn/metalearning/metalearning/meta_base.py:72: FutureWarning: The frame.append method is deprecated and will be removed from pandas in a future version. Use pandas.concat instead.\n",
      "  self.algorithm_runs[metric].append(runs)\n"
     ]
    },
    {
     "name": "stdout",
     "output_type": "stream",
     "text": [
      "Finished - saved to './models/Milk/autosklearn/autosklearn_Milk_resamp-strategy_holdout-iterative-fit.pkl'\n",
      "-> Fitting - Resampling Strategy: cv\n"
     ]
    },
    {
     "name": "stderr",
     "output_type": "stream",
     "text": [
      "/usr/local/lib/python3.8/dist-packages/autosklearn/metalearning/metalearning/meta_base.py:68: FutureWarning: The frame.append method is deprecated and will be removed from pandas in a future version. Use pandas.concat instead.\n",
      "  self.metafeatures = self.metafeatures.append(metafeatures)\n",
      "/usr/local/lib/python3.8/dist-packages/autosklearn/metalearning/metalearning/meta_base.py:72: FutureWarning: The frame.append method is deprecated and will be removed from pandas in a future version. Use pandas.concat instead.\n",
      "  self.algorithm_runs[metric].append(runs)\n"
     ]
    },
    {
     "name": "stdout",
     "output_type": "stream",
     "text": [
      "Finished - saved to './models/Milk/autosklearn/autosklearn_Milk_resamp-strategy_cv.pkl'\n",
      "-> Fitting - Resampling Strategy: cv-iterative-fit\n"
     ]
    },
    {
     "name": "stderr",
     "output_type": "stream",
     "text": [
      "/usr/local/lib/python3.8/dist-packages/autosklearn/metalearning/metalearning/meta_base.py:68: FutureWarning: The frame.append method is deprecated and will be removed from pandas in a future version. Use pandas.concat instead.\n",
      "  self.metafeatures = self.metafeatures.append(metafeatures)\n",
      "/usr/local/lib/python3.8/dist-packages/autosklearn/metalearning/metalearning/meta_base.py:72: FutureWarning: The frame.append method is deprecated and will be removed from pandas in a future version. Use pandas.concat instead.\n",
      "  self.algorithm_runs[metric].append(runs)\n"
     ]
    },
    {
     "name": "stdout",
     "output_type": "stream",
     "text": [
      "Finished - saved to './models/Milk/autosklearn/autosklearn_Milk_resamp-strategy_cv-iterative-fit.pkl'\n",
      "CPU times: user 5h 58min 1s, sys: 4min 35s, total: 6h 2min 36s\n",
      "Wall time: 4h 7min 22s\n"
     ]
    }
   ],
   "source": [
    "%%time\n",
    "initial_configurations_via_metalearning = [0, 2, 4, 8, 16, 32]\n",
    "resampling_strategies = ['holdout', 'holdout-iterative-fit', 'cv', 'cv-iterative-fit']\n",
    "max_models_on_disc = [2, 4, 8, 16, 32, 64]\n",
    "ensemble_sizes = [1, 2, 3, 4, 8, 16]\n",
    "\n",
    "# initial_configurations_via_metalearning = []\n",
    "# resampling_strategies = []\n",
    "# max_models_on_disc = []\n",
    "# ensemble_sizes = []\n",
    "\n",
    "multi.build_and_fit_classifier(dataset_name=\"Milk\",\n",
    "                               initial_configurations_via_metalearning=initial_configurations_via_metalearning,\n",
    "                               resampling_strategies=resampling_strategies,\n",
    "                               max_models_on_disc=max_models_on_disc,\n",
    "                               ensemble_sizes=ensemble_sizes)"
   ]
  },
  {
   "cell_type": "markdown",
   "id": "068d5431",
   "metadata": {},
   "source": [
    "## Testing effects of different parameter changes "
   ]
  },
  {
   "cell_type": "markdown",
   "id": "ccda2eb0",
   "metadata": {},
   "source": [
    "## Visualize "
   ]
  },
  {
   "cell_type": "code",
   "execution_count": 6,
   "id": "570c4109",
   "metadata": {},
   "outputs": [
    {
     "data": {
      "text/html": [
       "<div>\n",
       "<style scoped>\n",
       "    .dataframe tbody tr th:only-of-type {\n",
       "        vertical-align: middle;\n",
       "    }\n",
       "\n",
       "    .dataframe tbody tr th {\n",
       "        vertical-align: top;\n",
       "    }\n",
       "\n",
       "    .dataframe thead th {\n",
       "        text-align: right;\n",
       "    }\n",
       "</style>\n",
       "<table border=\"1\" class=\"dataframe\">\n",
       "  <thead>\n",
       "    <tr style=\"text-align: right;\">\n",
       "      <th></th>\n",
       "      <th>Feature</th>\n",
       "      <th>Value</th>\n",
       "      <th>Elapsed_Time</th>\n",
       "      <th>Train_Score</th>\n",
       "      <th>Test_Score</th>\n",
       "    </tr>\n",
       "  </thead>\n",
       "  <tbody>\n",
       "    <tr>\n",
       "      <th>0</th>\n",
       "      <td>Initial_Confs</td>\n",
       "      <td>0</td>\n",
       "      <td>200.978270</td>\n",
       "      <td>1.000000</td>\n",
       "      <td>0.995283</td>\n",
       "    </tr>\n",
       "    <tr>\n",
       "      <th>1</th>\n",
       "      <td>Initial_Confs</td>\n",
       "      <td>2</td>\n",
       "      <td>207.659034</td>\n",
       "      <td>1.000000</td>\n",
       "      <td>0.995283</td>\n",
       "    </tr>\n",
       "    <tr>\n",
       "      <th>2</th>\n",
       "      <td>Initial_Confs</td>\n",
       "      <td>4</td>\n",
       "      <td>193.471826</td>\n",
       "      <td>0.997639</td>\n",
       "      <td>0.990566</td>\n",
       "    </tr>\n",
       "    <tr>\n",
       "      <th>3</th>\n",
       "      <td>Initial_Confs</td>\n",
       "      <td>8</td>\n",
       "      <td>220.237806</td>\n",
       "      <td>0.998819</td>\n",
       "      <td>0.985849</td>\n",
       "    </tr>\n",
       "    <tr>\n",
       "      <th>4</th>\n",
       "      <td>Initial_Confs</td>\n",
       "      <td>16</td>\n",
       "      <td>238.729202</td>\n",
       "      <td>0.998819</td>\n",
       "      <td>0.985849</td>\n",
       "    </tr>\n",
       "    <tr>\n",
       "      <th>5</th>\n",
       "      <td>Initial_Confs</td>\n",
       "      <td>32</td>\n",
       "      <td>180.234929</td>\n",
       "      <td>0.998819</td>\n",
       "      <td>0.985849</td>\n",
       "    </tr>\n",
       "    <tr>\n",
       "      <th>6</th>\n",
       "      <td>Max_Models</td>\n",
       "      <td>2</td>\n",
       "      <td>176.209659</td>\n",
       "      <td>0.998819</td>\n",
       "      <td>0.985849</td>\n",
       "    </tr>\n",
       "    <tr>\n",
       "      <th>7</th>\n",
       "      <td>Max_Models</td>\n",
       "      <td>4</td>\n",
       "      <td>175.739193</td>\n",
       "      <td>0.998819</td>\n",
       "      <td>0.985849</td>\n",
       "    </tr>\n",
       "    <tr>\n",
       "      <th>8</th>\n",
       "      <td>Max_Models</td>\n",
       "      <td>8</td>\n",
       "      <td>172.073256</td>\n",
       "      <td>1.000000</td>\n",
       "      <td>0.990566</td>\n",
       "    </tr>\n",
       "    <tr>\n",
       "      <th>9</th>\n",
       "      <td>Max_Models</td>\n",
       "      <td>16</td>\n",
       "      <td>225.906667</td>\n",
       "      <td>1.000000</td>\n",
       "      <td>0.995283</td>\n",
       "    </tr>\n",
       "    <tr>\n",
       "      <th>10</th>\n",
       "      <td>Max_Models</td>\n",
       "      <td>32</td>\n",
       "      <td>225.917837</td>\n",
       "      <td>0.998819</td>\n",
       "      <td>0.985849</td>\n",
       "    </tr>\n",
       "    <tr>\n",
       "      <th>11</th>\n",
       "      <td>Max_Models</td>\n",
       "      <td>64</td>\n",
       "      <td>222.925742</td>\n",
       "      <td>1.000000</td>\n",
       "      <td>0.990566</td>\n",
       "    </tr>\n",
       "    <tr>\n",
       "      <th>12</th>\n",
       "      <td>Ensemble_Size</td>\n",
       "      <td>1</td>\n",
       "      <td>234.193810</td>\n",
       "      <td>1.000000</td>\n",
       "      <td>0.995283</td>\n",
       "    </tr>\n",
       "    <tr>\n",
       "      <th>13</th>\n",
       "      <td>Ensemble_Size</td>\n",
       "      <td>2</td>\n",
       "      <td>210.319801</td>\n",
       "      <td>1.000000</td>\n",
       "      <td>0.990566</td>\n",
       "    </tr>\n",
       "    <tr>\n",
       "      <th>14</th>\n",
       "      <td>Ensemble_Size</td>\n",
       "      <td>3</td>\n",
       "      <td>193.206949</td>\n",
       "      <td>0.998819</td>\n",
       "      <td>0.981132</td>\n",
       "    </tr>\n",
       "    <tr>\n",
       "      <th>15</th>\n",
       "      <td>Ensemble_Size</td>\n",
       "      <td>4</td>\n",
       "      <td>203.153956</td>\n",
       "      <td>0.998819</td>\n",
       "      <td>0.981132</td>\n",
       "    </tr>\n",
       "    <tr>\n",
       "      <th>16</th>\n",
       "      <td>Ensemble_Size</td>\n",
       "      <td>8</td>\n",
       "      <td>217.545048</td>\n",
       "      <td>1.000000</td>\n",
       "      <td>0.990566</td>\n",
       "    </tr>\n",
       "    <tr>\n",
       "      <th>17</th>\n",
       "      <td>Ensemble_Size</td>\n",
       "      <td>16</td>\n",
       "      <td>214.274652</td>\n",
       "      <td>1.000000</td>\n",
       "      <td>0.995283</td>\n",
       "    </tr>\n",
       "    <tr>\n",
       "      <th>18</th>\n",
       "      <td>Resampling_Strategy</td>\n",
       "      <td>holdout</td>\n",
       "      <td>212.736046</td>\n",
       "      <td>1.000000</td>\n",
       "      <td>0.995283</td>\n",
       "    </tr>\n",
       "    <tr>\n",
       "      <th>19</th>\n",
       "      <td>Resampling_Strategy</td>\n",
       "      <td>holdout-iterative-fit</td>\n",
       "      <td>195.178355</td>\n",
       "      <td>1.000000</td>\n",
       "      <td>0.990566</td>\n",
       "    </tr>\n",
       "    <tr>\n",
       "      <th>20</th>\n",
       "      <td>Resampling_Strategy</td>\n",
       "      <td>cv</td>\n",
       "      <td>176.694730</td>\n",
       "      <td>1.000000</td>\n",
       "      <td>0.990566</td>\n",
       "    </tr>\n",
       "    <tr>\n",
       "      <th>21</th>\n",
       "      <td>Resampling_Strategy</td>\n",
       "      <td>cv-iterative-fit</td>\n",
       "      <td>181.795632</td>\n",
       "      <td>0.998819</td>\n",
       "      <td>0.985849</td>\n",
       "    </tr>\n",
       "  </tbody>\n",
       "</table>\n",
       "</div>"
      ],
      "text/plain": [
       "                Feature                  Value  Elapsed_Time  Train_Score  \\\n",
       "0         Initial_Confs                      0    200.978270     1.000000   \n",
       "1         Initial_Confs                      2    207.659034     1.000000   \n",
       "2         Initial_Confs                      4    193.471826     0.997639   \n",
       "3         Initial_Confs                      8    220.237806     0.998819   \n",
       "4         Initial_Confs                     16    238.729202     0.998819   \n",
       "5         Initial_Confs                     32    180.234929     0.998819   \n",
       "6            Max_Models                      2    176.209659     0.998819   \n",
       "7            Max_Models                      4    175.739193     0.998819   \n",
       "8            Max_Models                      8    172.073256     1.000000   \n",
       "9            Max_Models                     16    225.906667     1.000000   \n",
       "10           Max_Models                     32    225.917837     0.998819   \n",
       "11           Max_Models                     64    222.925742     1.000000   \n",
       "12        Ensemble_Size                      1    234.193810     1.000000   \n",
       "13        Ensemble_Size                      2    210.319801     1.000000   \n",
       "14        Ensemble_Size                      3    193.206949     0.998819   \n",
       "15        Ensemble_Size                      4    203.153956     0.998819   \n",
       "16        Ensemble_Size                      8    217.545048     1.000000   \n",
       "17        Ensemble_Size                     16    214.274652     1.000000   \n",
       "18  Resampling_Strategy                holdout    212.736046     1.000000   \n",
       "19  Resampling_Strategy  holdout-iterative-fit    195.178355     1.000000   \n",
       "20  Resampling_Strategy                     cv    176.694730     1.000000   \n",
       "21  Resampling_Strategy       cv-iterative-fit    181.795632     0.998819   \n",
       "\n",
       "    Test_Score  \n",
       "0     0.995283  \n",
       "1     0.995283  \n",
       "2     0.990566  \n",
       "3     0.985849  \n",
       "4     0.985849  \n",
       "5     0.985849  \n",
       "6     0.985849  \n",
       "7     0.985849  \n",
       "8     0.990566  \n",
       "9     0.995283  \n",
       "10    0.985849  \n",
       "11    0.990566  \n",
       "12    0.995283  \n",
       "13    0.990566  \n",
       "14    0.981132  \n",
       "15    0.981132  \n",
       "16    0.990566  \n",
       "17    0.995283  \n",
       "18    0.995283  \n",
       "19    0.990566  \n",
       "20    0.990566  \n",
       "21    0.985849  "
      ]
     },
     "execution_count": 6,
     "metadata": {},
     "output_type": "execute_result"
    }
   ],
   "source": [
    "collected_data = pd.read_csv('./models/Milk/autosklearn/logs/log.csv', index_col=[0])\n",
    "collected_data"
   ]
  },
  {
   "cell_type": "code",
   "execution_count": 7,
   "id": "f2fb2510",
   "metadata": {},
   "outputs": [],
   "source": [
    "initial_confs_df = collected_data[collected_data['Feature'] == 'Initial_Confs']\n",
    "max_models_df = collected_data[collected_data['Feature'] == 'Max_Models']\n",
    "ensemble_size_df = collected_data[collected_data['Feature'] == 'Ensemble_Size']\n",
    "resamp_strategy_df = collected_data[collected_data['Feature'] == 'Resampling_Strategy']"
   ]
  },
  {
   "cell_type": "markdown",
   "id": "367baabd",
   "metadata": {},
   "source": [
    "### Initial Configurations Effects"
   ]
  },
  {
   "cell_type": "code",
   "execution_count": 8,
   "id": "f0a53cf0",
   "metadata": {},
   "outputs": [
    {
     "data": {
      "image/png": "[encoded data removed]",
      "text/plain": [
       "<Figure size 432x288 with 1 Axes>"
      ]
     },
     "metadata": {
      "needs_background": "light"
     },
     "output_type": "display_data"
    }
   ],
   "source": [
    "plt.plot(initial_confs_df['Value'], initial_confs_df['Elapsed_Time'], color='green', marker='o')\n",
    "plt.title('Time as a function of Initial Configurations', fontsize=18)\n",
    "plt.xlabel('Initial Configurations', fontsize=14)\n",
    "plt.ylabel('Elapsed Time (sec)', fontsize=14)\n",
    "plt.grid(True)\n",
    "plt.show()"
   ]
  },
  {
   "cell_type": "code",
   "execution_count": 9,
   "id": "a2f55dba",
   "metadata": {
    "scrolled": true
   },
   "outputs": [
    {
     "data": {
      "image/png": "[encoded data removed]",
      "text/plain": [
       "<Figure size 432x288 with 1 Axes>"
      ]
     },
     "metadata": {
      "needs_background": "light"
     },
     "output_type": "display_data"
    }
   ],
   "source": [
    "plt.plot(initial_confs_df['Value'], initial_confs_df['Train_Score'], color='blue', marker='o', label='Train')\n",
    "plt.plot(initial_confs_df['Value'], initial_confs_df['Test_Score'], color='red', marker='o', label='Test')\n",
    "plt.legend()\n",
    "\n",
    "plt.title('Accuracy as a function of Initial Configurations', fontsize=18)\n",
    "plt.xlabel('Initial Configurations', fontsize=14)\n",
    "plt.ylabel('Accuracy', fontsize=14)\n",
    "plt.grid(True)\n",
    "plt.show()"
   ]
  },
  {
   "cell_type": "markdown",
   "id": "2738e35e",
   "metadata": {},
   "source": [
    "### Max Models Effects"
   ]
  },
  {
   "cell_type": "code",
   "execution_count": 10,
   "id": "2f4494a3",
   "metadata": {
    "scrolled": false
   },
   "outputs": [
    {
     "data": {
      "image/png": "[encoded data removed]",
      "text/plain": [
       "<Figure size 432x288 with 1 Axes>"
      ]
     },
     "metadata": {
      "needs_background": "light"
     },
     "output_type": "display_data"
    }
   ],
   "source": [
    "plt.plot(max_models_df['Value'], max_models_df['Elapsed_Time'], color='green', marker='o')\n",
    "plt.title('Time as a function of Max Models', fontsize=18)\n",
    "plt.xlabel('Max Models', fontsize=14)\n",
    "plt.ylabel('Elapsed Time (sec)', fontsize=14)\n",
    "plt.grid(True)\n",
    "plt.show()"
   ]
  },
  {
   "cell_type": "code",
   "execution_count": 11,
   "id": "54ad7310",
   "metadata": {
    "scrolled": false
   },
   "outputs": [
    {
     "data": {
      "image/png": "[encoded data removed]",
      "text/plain": [
       "<Figure size 432x288 with 1 Axes>"
      ]
     },
     "metadata": {
      "needs_background": "light"
     },
     "output_type": "display_data"
    }
   ],
   "source": [
    "plt.plot(max_models_df['Value'], max_models_df['Train_Score'], color='blue', marker='o', label='Train')\n",
    "plt.plot(max_models_df['Value'], max_models_df['Test_Score'], color='red', marker='o', label='Test')\n",
    "plt.legend()\n",
    "\n",
    "plt.title('Accuracy as a function of Max Models', fontsize=18)\n",
    "plt.xlabel('Max Models', fontsize=14)\n",
    "plt.ylabel('Accuracy', fontsize=14)\n",
    "plt.grid(True)\n",
    "plt.show()"
   ]
  },
  {
   "cell_type": "markdown",
   "id": "17844e1d",
   "metadata": {},
   "source": [
    "### Ensemble Size Effects"
   ]
  },
  {
   "cell_type": "code",
   "execution_count": 12,
   "id": "e56cb0d3",
   "metadata": {},
   "outputs": [
    {
     "data": {
      "image/png": "[encoded data removed]",
      "text/plain": [
       "<Figure size 576x288 with 1 Axes>"
      ]
     },
     "metadata": {
      "needs_background": "light"
     },
     "output_type": "display_data"
    }
   ],
   "source": [
    "plt.figure(figsize=(8,4))\n",
    "\n",
    "plt.plot(ensemble_size_df['Value'], ensemble_size_df['Elapsed_Time'], color='green', marker='o')\n",
    "plt.title('Time as a function of Ensemble Size', fontsize=18)\n",
    "plt.xlabel('Ensemble Size', fontsize=14)\n",
    "plt.ylabel('Elapsed Time (sec)', fontsize=14)\n",
    "plt.grid(True)\n",
    "\n",
    "plt.show()"
   ]
  },
  {
   "cell_type": "code",
   "execution_count": 13,
   "id": "1ed7f325",
   "metadata": {
    "scrolled": false
   },
   "outputs": [
    {
     "data": {
      "image/png": "[encoded data removed]",
      "text/plain": [
       "<Figure size 576x288 with 1 Axes>"
      ]
     },
     "metadata": {
      "needs_background": "light"
     },
     "output_type": "display_data"
    }
   ],
   "source": [
    "plt.figure(figsize=(8,4))\n",
    "plt.plot(ensemble_size_df['Value'], ensemble_size_df['Train_Score'], color='blue', marker='o', label='Train')\n",
    "plt.plot(ensemble_size_df['Value'], ensemble_size_df['Test_Score'], color='red', marker='o', label='Test')\n",
    "plt.legend()\n",
    "\n",
    "plt.title('Accuracy as a function of Ensemble Size', fontsize=18)\n",
    "plt.xlabel('Ensemble Size', fontsize=14)\n",
    "plt.ylabel('Accuracy', fontsize=14)\n",
    "plt.grid(True)\n",
    "plt.show()"
   ]
  },
  {
   "cell_type": "markdown",
   "id": "8a211f65",
   "metadata": {},
   "source": [
    "### Remsampling Strategy Effects"
   ]
  },
  {
   "cell_type": "code",
   "execution_count": 14,
   "id": "eef83957",
   "metadata": {},
   "outputs": [
    {
     "data": {
      "image/png": "[encoded data removed]",
      "text/plain": [
       "<Figure size 576x288 with 1 Axes>"
      ]
     },
     "metadata": {
      "needs_background": "light"
     },
     "output_type": "display_data"
    }
   ],
   "source": [
    "fig = plt.figure(figsize = (8, 4))\n",
    " \n",
    "# creating the bar plot\n",
    "plt.bar(resamp_strategy_df['Value'], resamp_strategy_df['Elapsed_Time'], color ='green')\n",
    " \n",
    "plt.xlabel(\"Resampling Strategy\")\n",
    "plt.ylabel(\"Elapsed Time (sec)\")\n",
    "plt.title(\"Time for each Resampling Strategy\")\n",
    "plt.show()"
   ]
  },
  {
   "cell_type": "code",
   "execution_count": 16,
   "id": "807f4713",
   "metadata": {},
   "outputs": [
    {
     "data": {
      "image/png": "[encoded data removed]",
      "text/plain": [
       "<Figure size 1080x288 with 1 Axes>"
      ]
     },
     "metadata": {
      "needs_background": "light"
     },
     "output_type": "display_data"
    }
   ],
   "source": [
    "import numpy as np\n",
    "\n",
    "labels = resamp_strategy_df['Value']\n",
    "train_score = np.array(resamp_strategy_df['Train_Score']).round(3)\n",
    "test_score = np.array(resamp_strategy_df['Test_Score']).round(3)\n",
    "\n",
    "x = np.arange(len(labels))  # the label locations\n",
    "width = 0.2  # the width of the bars\n",
    "\n",
    "fig, ax = plt.subplots(figsize=(15,4))\n",
    "rects1 = ax.bar(x - width/2, train_score, width, label='Train')\n",
    "rects2 = ax.bar(x + width/2, test_score, width, label='Test')\n",
    "\n",
    "# Add some text for labels, title and custom x-axis tick labels, etc.\n",
    "ax.set_ylabel('Accuracy')\n",
    "ax.set_title('Accuracy for Train and Test sets')\n",
    "ax.set_xticks(x, labels)\n",
    "ax.legend(loc='lower right')\n",
    "\n",
    "ax.bar_label(rects1, padding=0)\n",
    "ax.bar_label(rects2, padding=0)\n",
    "\n",
    "plt.show()"
   ]
  },
  {
   "cell_type": "code",
   "execution_count": null,
   "id": "df221c0f",
   "metadata": {},
   "outputs": [],
   "source": []
  },
  {
   "cell_type": "code",
   "execution_count": null,
   "id": "976a62e5",
   "metadata": {},
   "outputs": [],
   "source": []
  },
  {
   "cell_type": "code",
   "execution_count": null,
   "id": "e65a8ad6",
   "metadata": {},
   "outputs": [],
   "source": []
  }
 ],
 "metadata": {
  "kernelspec": {
   "display_name": "Python 3 (ipykernel)",
   "language": "python",
   "name": "python3"
  },
  "language_info": {
   "codemirror_mode": {
    "name": "ipython",
    "version": 3
   },
   "file_extension": ".py",
   "mimetype": "text/x-python",
   "name": "python",
   "nbconvert_exporter": "python",
   "pygments_lexer": "ipython3",
   "version": "3.8.10"
  }
 },
 "nbformat": 4,
 "nbformat_minor": 5
}
